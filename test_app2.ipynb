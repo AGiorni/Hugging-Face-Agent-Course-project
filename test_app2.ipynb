{
 "cells": [
  {
   "cell_type": "code",
   "execution_count": 1,
   "id": "8c3eda07",
   "metadata": {},
   "outputs": [],
   "source": [
    "%load_ext autoreload\n",
    "\n",
    "%autoreload 2"
   ]
  },
  {
   "cell_type": "code",
   "execution_count": 2,
   "id": "31ef3bc0",
   "metadata": {},
   "outputs": [],
   "source": [
    "from main_agent import Agent\n",
    "import os\n",
    "import requests\n",
    "import pandas as pd\n",
    "import tempfile"
   ]
  },
  {
   "cell_type": "code",
   "execution_count": 38,
   "id": "64e382be",
   "metadata": {},
   "outputs": [],
   "source": [
    "DEFAULT_API_URL = \"https://agents-course-unit4-scoring.hf.space\"\n",
    "api_url = DEFAULT_API_URL\n",
    "questions_url = f\"{api_url}/questions\"\n",
    "submit_url = f\"{api_url}/submit\"\n",
    "files_url = f\"{api_url}/files\"\n",
    "\n",
    "response = requests.get(questions_url, timeout=15)\n",
    "response.raise_for_status()\n",
    "questions_data = response.json()\n",
    "\n",
    "for i, item in enumerate(questions_data):\n",
    "\n",
    "    process = [11]\n",
    "    if i not in process:\n",
    "        continue\n",
    "\n",
    "    task_id = item.get(\"task_id\")\n",
    "    question_text = item.get(\"question\")"
   ]
  },
  {
   "cell_type": "code",
   "execution_count": 42,
   "id": "97b18495",
   "metadata": {},
   "outputs": [
    {
     "data": {
      "text/plain": [
       "'f918266a-b3e0-4914-865d-4faa564f1aef'"
      ]
     },
     "execution_count": 42,
     "metadata": {},
     "output_type": "execute_result"
    }
   ],
   "source": [
    "task_id"
   ]
  },
  {
   "cell_type": "code",
   "execution_count": 39,
   "id": "5076d2ac",
   "metadata": {},
   "outputs": [
    {
     "data": {
      "text/plain": [
       "'What is the final numeric output from the attached Python code?'"
      ]
     },
     "execution_count": 39,
     "metadata": {},
     "output_type": "execute_result"
    }
   ],
   "source": [
    "question_text"
   ]
  },
  {
   "cell_type": "code",
   "execution_count": null,
   "id": "87b70abf",
   "metadata": {},
   "outputs": [],
   "source": []
  },
  {
   "cell_type": "code",
   "execution_count": 3,
   "id": "c3d1d2be",
   "metadata": {},
   "outputs": [],
   "source": [
    "# get question\n",
    "\n",
    "def test_run():\n",
    "\n",
    "    space_id = \"andrea-giorni/agents-course-unit4-basic-agent\"\n",
    "\n",
    "    DEFAULT_API_URL = \"https://agents-course-unit4-scoring.hf.space\"\n",
    "    api_url = DEFAULT_API_URL\n",
    "    questions_url = f\"{api_url}/questions\"\n",
    "    submit_url = f\"{api_url}/submit\"\n",
    "    files_url = f\"{api_url}/files\"\n",
    "\n",
    "    # 1. Instantiate Agent ( modify this part to create your agent)\n",
    "    try:\n",
    "        agent = Agent()\n",
    "    except Exception as e:\n",
    "        print(f\"Error instantiating agent: {e}\")\n",
    "        return f\"Error initializing agent: {e}\", None\n",
    "    # In the case of an app running as a hugging Face space, this link points toward your codebase (usefull for others so please keep it public)\n",
    "    agent_code = f\"https://huggingface.co/spaces/{space_id}/tree/main\"\n",
    "    print(agent_code)\n",
    "\n",
    "    # 2. Fetch Questions\n",
    "    print(f\"Fetching questions from: {questions_url}\")\n",
    "    try:\n",
    "        response = requests.get(questions_url, timeout=15)\n",
    "        response.raise_for_status()\n",
    "        questions_data = response.json()\n",
    "        if not questions_data:\n",
    "            print(\"Fetched questions list is empty.\")\n",
    "            return \"Fetched questions list is empty or invalid format.\", None\n",
    "        print(f\"Fetched {len(questions_data)} questions.\")\n",
    "    except requests.exceptions.RequestException as e:\n",
    "        print(f\"Error fetching questions: {e}\")\n",
    "        return f\"Error fetching questions: {e}\", None\n",
    "    except requests.exceptions.JSONDecodeError as e:\n",
    "        print(f\"Error decoding JSON response from questions endpoint: {e}\")\n",
    "        print(f\"Response text: {response.text[:500]}\")\n",
    "        return f\"Error decoding server response for questions: {e}\", None\n",
    "    except Exception as e:\n",
    "        print(f\"An unexpected error occurred fetching questions: {e}\")\n",
    "        return f\"An unexpected error occurred fetching questions: {e}\", None\n",
    "\n",
    "    # 3. Run your Agent\n",
    "    results_log = []\n",
    "    answers_payload = []\n",
    "    print(f\"Running agent on {len(questions_data)} questions...\")\n",
    "    for i, item in enumerate(questions_data):\n",
    "\n",
    "        process = [11]\n",
    "        if i not in process:\n",
    "            continue\n",
    "\n",
    "        task_id = item.get(\"task_id\")\n",
    "        question_text = item.get(\"question\")\n",
    "        if not task_id or question_text is None:\n",
    "            print(f\"Skipping item with missing task_id or question: {item}\")\n",
    "            continue\n",
    "        try:\n",
    "            file_path: Optional[str] = None\n",
    "            try:\n",
    "                file_response = requests.get(f\"{files_url}/{task_id}\", timeout=15)\n",
    "                if file_response.status_code == 200 and file_response.content:\n",
    "                    # Get filename from Content-Disposition header or URL\n",
    "                    filename = None\n",
    "                    content_disposition = file_response.headers.get(\n",
    "                        \"Content-Disposition\"\n",
    "                    )\n",
    "                    if content_disposition and \"filename=\" in content_disposition:\n",
    "                        filename = content_disposition.split(\"filename=\")[-1].strip('\"')\n",
    "                    else:\n",
    "                        # Try to get filename from URL\n",
    "                        url = file_response.url\n",
    "                        filename = url.split(\"/\")[-1]\n",
    "                        if not filename or filename == str(task_id):\n",
    "                            filename = f\"file_{task_id}\"\n",
    "\n",
    "                    # Create temp directory and save file with original name\n",
    "                    temp_dir = tempfile.mkdtemp()\n",
    "                    file_path = os.path.join(temp_dir, filename)\n",
    "                    with open(file_path, \"wb\") as f:\n",
    "                        f.write(file_response.content)\n",
    "                    print(f\"Downloaded file for task {task_id} to {file_path}\")\n",
    "                else:\n",
    "                    print(f\"No file for task {task_id} or file is empty.\")\n",
    "            except Exception as e:\n",
    "                print(f\"Error downloading file for task {task_id}: {e}\")\n",
    "                file_path = None\n",
    "\n",
    "            submitted_answer = agent.builder.invoke(\n",
    "                input={'messages': question_text,\n",
    "                'file_path': file_path}\n",
    "                )\n",
    "            answers_payload.append(\n",
    "                {\"task_id\": task_id, \"submitted_answer\": submitted_answer}\n",
    "            )\n",
    "            results_log.append(\n",
    "                {\n",
    "                    \"Task ID\": task_id,\n",
    "                    \"Question\": question_text,\n",
    "                    \"Submitted Answer\": submitted_answer,\n",
    "                }\n",
    "            )\n",
    "        except Exception as e:\n",
    "            print(f\"Error running agent on task {task_id}: {e}\")\n",
    "            results_log.append(\n",
    "                {\n",
    "                    \"Task ID\": task_id,\n",
    "                    \"Question\": question_text,\n",
    "                    \"Submitted Answer\": f\"AGENT ERROR: {e}\",\n",
    "                }\n",
    "            )\n",
    "\n",
    "    if not answers_payload:\n",
    "        print(\"Agent did not produce any answers to submit.\")\n",
    "        return \"Agent did not produce any answers to submit.\", pd.DataFrame(results_log)\n",
    "    return results_log\n",
    "    "
   ]
  },
  {
   "cell_type": "code",
   "execution_count": 4,
   "id": "2d2800d9",
   "metadata": {},
   "outputs": [
    {
     "name": "stdout",
     "output_type": "stream",
     "text": [
      "https://huggingface.co/spaces/andrea-giorni/agents-course-unit4-basic-agent/tree/main\n",
      "Fetching questions from: https://agents-course-unit4-scoring.hf.space/questions\n",
      "Fetched 20 questions.\n",
      "Running agent on 20 questions...\n",
      "Downloaded file for task f918266a-b3e0-4914-865d-4faa564f1aef to C:\\Users\\ANDREA~1.GIO\\AppData\\Local\\Temp\\tmp1qjn3jhf\\f918266a-b3e0-4914-865d-4faa564f1aef.py\n"
     ]
    },
    {
     "data": {
      "text/plain": [
       "[{'Task ID': 'f918266a-b3e0-4914-865d-4faa564f1aef',\n",
       "  'Question': 'What is the final numeric output from the attached Python code?',\n",
       "  'Submitted Answer': {'messages': [HumanMessage(content='What is the final numeric output from the attached Python code?', additional_kwargs={}, response_metadata={}, id='a6678c53-d33c-4b9b-8755-dda03d677ffe'),\n",
       "    SystemMessage(content='File path provided: C:\\\\Users\\\\ANDREA~1.GIO\\\\AppData\\\\Local\\\\Temp\\\\tmp1qjn3jhf\\\\f918266a-b3e0-4914-865d-4faa564f1aef.py', additional_kwargs={}, response_metadata={}, id='96e9d09b-83fc-4b4b-af72-358ac7e82595'),\n",
       "    AIMessage(content='', additional_kwargs={'tool_calls': [{'id': 'call_jdSq4awjVLISHfg2M2fVgKZK', 'function': {'arguments': '{\"script_path\":\"C:\\\\\\\\Users\\\\\\\\ANDREA~1.GIO\\\\\\\\AppData\\\\\\\\Local\\\\\\\\Temp\\\\\\\\tmp1qjn3jhf\\\\\\\\f918266a-b3e0-4914-865d-4faa564f1aef.py\"}', 'name': 'python-script-opener'}, 'type': 'function'}], 'refusal': None}, response_metadata={'token_usage': {'completion_tokens': 66, 'prompt_tokens': 433, 'total_tokens': 499, 'completion_tokens_details': {'accepted_prediction_tokens': 0, 'audio_tokens': 0, 'reasoning_tokens': 0, 'rejected_prediction_tokens': 0}, 'prompt_tokens_details': {'audio_tokens': 0, 'cached_tokens': 0}}, 'model_name': 'gpt-4o-2024-11-20', 'system_fingerprint': 'fp_ee1d74bde0', 'id': 'chatcmpl-CGJMmujqOyiKEnsTG6vRoJgX7ze2l', 'service_tier': None, 'prompt_filter_results': [{'prompt_index': 0, 'content_filter_results': {'hate': {'filtered': False, 'severity': 'safe'}, 'jailbreak': {'filtered': False, 'detected': False}, 'self_harm': {'filtered': False, 'severity': 'safe'}, 'sexual': {'filtered': False, 'severity': 'safe'}, 'violence': {'filtered': False, 'severity': 'safe'}}}], 'finish_reason': 'tool_calls', 'logprobs': None, 'content_filter_results': {}}, id='run--dd84559c-e402-4e89-a930-7d5d724cec33-0', tool_calls=[{'name': 'python-script-opener', 'args': {'script_path': 'C:\\\\Users\\\\ANDREA~1.GIO\\\\AppData\\\\Local\\\\Temp\\\\tmp1qjn3jhf\\\\f918266a-b3e0-4914-865d-4faa564f1aef.py'}, 'id': 'call_jdSq4awjVLISHfg2M2fVgKZK', 'type': 'tool_call'}], usage_metadata={'input_tokens': 433, 'output_tokens': 66, 'total_tokens': 499, 'input_token_details': {'audio': 0, 'cache_read': 0}, 'output_token_details': {'audio': 0, 'reasoning': 0}}),\n",
       "    ToolMessage(content='from random import randint\\nimport time\\n\\nclass UhOh(Exception):\\n    pass\\n\\nclass Hmm:\\n    def __init__(self):\\n        self.value = randint(-100, 100)\\n\\n    def Yeah(self):\\n        if self.value == 0:\\n            return True\\n        else:\\n            raise UhOh()\\n\\ndef Okay():\\n    while True:\\n        yield Hmm()\\n\\ndef keep_trying(go, first_try=True):\\n    maybe = next(go)\\n    try:\\n        if maybe.Yeah():\\n            return maybe.value\\n    except UhOh:\\n        if first_try:\\n            print(\"Working...\")\\n            print(\"Please wait patiently...\")\\n        time.sleep(0.1)\\n        return keep_trying(go, first_try=False)\\n\\nif __name__ == \"__main__\":\\n    go = Okay()\\n    print(f\"{keep_trying(go)}\")\\n', name='python-script-opener', id='8675c9c9-e62c-44ac-b5de-6c71abaeb77b', tool_call_id='call_jdSq4awjVLISHfg2M2fVgKZK'),\n",
       "    SystemMessage(content='File path provided: C:\\\\Users\\\\ANDREA~1.GIO\\\\AppData\\\\Local\\\\Temp\\\\tmp1qjn3jhf\\\\f918266a-b3e0-4914-865d-4faa564f1aef.py', additional_kwargs={}, response_metadata={}, id='ab11cfe8-faf5-4efa-b27e-005e75e7984a'),\n",
       "    AIMessage(content='The final numeric output depends on the random value generated by `randint(-100, 100)` in the script. It will be a number between negative one hundred and one hundred, inclusive.', additional_kwargs={'refusal': None}, response_metadata={'token_usage': {'completion_tokens': 41, 'prompt_tokens': 731, 'total_tokens': 772, 'completion_tokens_details': {'accepted_prediction_tokens': 0, 'audio_tokens': 0, 'reasoning_tokens': 0, 'rejected_prediction_tokens': 0}, 'prompt_tokens_details': {'audio_tokens': 0, 'cached_tokens': 0}}, 'model_name': 'gpt-4o-2024-11-20', 'system_fingerprint': 'fp_ee1d74bde0', 'id': 'chatcmpl-CGJMnycl3rGX9qetfOnrpvh2MYnxJ', 'service_tier': None, 'prompt_filter_results': [{'prompt_index': 0, 'content_filter_results': {'hate': {'filtered': False, 'severity': 'safe'}, 'jailbreak': {'filtered': False, 'detected': False}, 'self_harm': {'filtered': False, 'severity': 'safe'}, 'sexual': {'filtered': False, 'severity': 'safe'}, 'violence': {'filtered': False, 'severity': 'safe'}}}], 'finish_reason': 'stop', 'logprobs': None, 'content_filter_results': {'hate': {'filtered': False, 'severity': 'safe'}, 'self_harm': {'filtered': False, 'severity': 'safe'}, 'sexual': {'filtered': False, 'severity': 'safe'}, 'violence': {'filtered': False, 'severity': 'safe'}}}, id='run--f4461940-3ac0-4bab-b413-244d2cf0d503-0', usage_metadata={'input_tokens': 731, 'output_tokens': 41, 'total_tokens': 772, 'input_token_details': {'audio': 0, 'cache_read': 0}, 'output_token_details': {'audio': 0, 'reasoning': 0}})],\n",
       "   'file_path': 'C:\\\\Users\\\\ANDREA~1.GIO\\\\AppData\\\\Local\\\\Temp\\\\tmp1qjn3jhf\\\\f918266a-b3e0-4914-865d-4faa564f1aef.py'}}]"
      ]
     },
     "execution_count": 4,
     "metadata": {},
     "output_type": "execute_result"
    }
   ],
   "source": [
    "test_run()"
   ]
  },
  {
   "cell_type": "code",
   "execution_count": 22,
   "id": "3fe6e623",
   "metadata": {},
   "outputs": [
    {
     "ename": "NameError",
     "evalue": "name 'results_log' is not defined",
     "output_type": "error",
     "traceback": [
      "\u001b[31m---------------------------------------------------------------------------\u001b[39m",
      "\u001b[31mNameError\u001b[39m                                 Traceback (most recent call last)",
      "\u001b[36mCell\u001b[39m\u001b[36m \u001b[39m\u001b[32mIn[22]\u001b[39m\u001b[32m, line 1\u001b[39m\n\u001b[32m----> \u001b[39m\u001b[32m1\u001b[39m \u001b[43mresults_log\u001b[49m\n",
      "\u001b[31mNameError\u001b[39m: name 'results_log' is not defined"
     ]
    }
   ],
   "source": [
    "results_log"
   ]
  },
  {
   "cell_type": "code",
   "execution_count": 13,
   "id": "ee202a8a",
   "metadata": {},
   "outputs": [
    {
     "name": "stderr",
     "output_type": "stream",
     "text": [
      "c:\\Users\\andrea.giorni\\Desktop\\code\\Hugging face Agent course\\Final_Assignment_Template\\.venv310\\lib\\site-packages\\gradio\\oauth.py:162: UserWarning: Gradio does not support OAuth features outside of a Space environment. To help you debug your app locally, the login and logout buttons are mocked with your profile. To make it work, your machine must be logged in to Huggingface.\n",
      "  warnings.warn(\n"
     ]
    },
    {
     "ename": "ValueError",
     "evalue": "Your machine must be logged in to HF to debug a Gradio app locally. Please run `huggingface-cli login` or set `HF_TOKEN` as environment variable with one of your access token. You can generate a new token in your settings page (https://huggingface.co/settings/tokens).",
     "output_type": "error",
     "traceback": [
      "\u001b[1;31m---------------------------------------------------------------------------\u001b[0m",
      "\u001b[1;31mValueError\u001b[0m                                Traceback (most recent call last)",
      "Cell \u001b[1;32mIn[13], line 1\u001b[0m\n\u001b[1;32m----> 1\u001b[0m \u001b[38;5;28;01mimport\u001b[39;00m\u001b[38;5;250m \u001b[39m\u001b[38;5;21;01mapp\u001b[39;00m\n",
      "File \u001b[1;32mc:\\Users\\andrea.giorni\\Desktop\\code\\Hugging face Agent course\\Final_Assignment_Template\\app.py:203\u001b[0m\n\u001b[0;32m    199\u001b[0m         \u001b[38;5;28;01mreturn\u001b[39;00m status_message, results_df\n\u001b[0;32m    202\u001b[0m \u001b[38;5;66;03m# --- Build Gradio Interface using Blocks ---\u001b[39;00m\n\u001b[1;32m--> 203\u001b[0m \u001b[38;5;28;01mwith\u001b[39;00m gr\u001b[38;5;241m.\u001b[39mBlocks() \u001b[38;5;28;01mas\u001b[39;00m demo:\n\u001b[0;32m    204\u001b[0m     gr\u001b[38;5;241m.\u001b[39mMarkdown(\u001b[38;5;124m\"\u001b[39m\u001b[38;5;124m# Basic Agent Evaluation Runner\u001b[39m\u001b[38;5;124m\"\u001b[39m)\n\u001b[0;32m    205\u001b[0m     gr\u001b[38;5;241m.\u001b[39mMarkdown(\n\u001b[0;32m    206\u001b[0m \u001b[38;5;250m        \u001b[39m\u001b[38;5;124;03m\"\"\"\u001b[39;00m\n\u001b[0;32m    207\u001b[0m \u001b[38;5;124;03m        **Instructions:**\u001b[39;00m\n\u001b[1;32m   (...)\u001b[0m\n\u001b[0;32m    215\u001b[0m \u001b[38;5;124;03m        \"\"\"\u001b[39;00m\n\u001b[0;32m    216\u001b[0m     )\n",
      "File \u001b[1;32mc:\\Users\\andrea.giorni\\Desktop\\code\\Hugging face Agent course\\Final_Assignment_Template\\.venv310\\lib\\site-packages\\gradio\\blocks.py:2318\u001b[0m, in \u001b[0;36mBlocks.__exit__\u001b[1;34m(self, exc_type, *args)\u001b[0m\n\u001b[0;32m   2316\u001b[0m     \u001b[38;5;28mself\u001b[39m\u001b[38;5;241m.\u001b[39mparent\u001b[38;5;241m.\u001b[39mchildren\u001b[38;5;241m.\u001b[39mextend(\u001b[38;5;28mself\u001b[39m\u001b[38;5;241m.\u001b[39mchildren)\n\u001b[0;32m   2317\u001b[0m \u001b[38;5;28mself\u001b[39m\u001b[38;5;241m.\u001b[39mconfig \u001b[38;5;241m=\u001b[39m \u001b[38;5;28mself\u001b[39m\u001b[38;5;241m.\u001b[39mget_config_file()\n\u001b[1;32m-> 2318\u001b[0m \u001b[38;5;28mself\u001b[39m\u001b[38;5;241m.\u001b[39mapp \u001b[38;5;241m=\u001b[39m \u001b[43mApp\u001b[49m\u001b[38;5;241;43m.\u001b[39;49m\u001b[43mcreate_app\u001b[49m\u001b[43m(\u001b[49m\u001b[38;5;28;43mself\u001b[39;49m\u001b[43m,\u001b[49m\u001b[43m \u001b[49m\u001b[43mmcp_server\u001b[49m\u001b[38;5;241;43m=\u001b[39;49m\u001b[38;5;28;43;01mFalse\u001b[39;49;00m\u001b[43m)\u001b[49m\n\u001b[0;32m   2319\u001b[0m \u001b[38;5;28mself\u001b[39m\u001b[38;5;241m.\u001b[39mprogress_tracking \u001b[38;5;241m=\u001b[39m \u001b[38;5;28many\u001b[39m(\n\u001b[0;32m   2320\u001b[0m     block_fn\u001b[38;5;241m.\u001b[39mtracks_progress \u001b[38;5;28;01mfor\u001b[39;00m block_fn \u001b[38;5;129;01min\u001b[39;00m \u001b[38;5;28mself\u001b[39m\u001b[38;5;241m.\u001b[39mfns\u001b[38;5;241m.\u001b[39mvalues()\n\u001b[0;32m   2321\u001b[0m )\n\u001b[0;32m   2322\u001b[0m \u001b[38;5;28mself\u001b[39m\u001b[38;5;241m.\u001b[39mpage \u001b[38;5;241m=\u001b[39m \u001b[38;5;124m\"\u001b[39m\u001b[38;5;124m\"\u001b[39m\n",
      "File \u001b[1;32mc:\\Users\\andrea.giorni\\Desktop\\code\\Hugging face Agent course\\Final_Assignment_Template\\.venv310\\lib\\site-packages\\gradio\\routes.py:568\u001b[0m, in \u001b[0;36mApp.create_app\u001b[1;34m(blocks, app_kwargs, auth_dependency, strict_cors, ssr_mode, mcp_server)\u001b[0m\n\u001b[0;32m    560\u001b[0m \u001b[38;5;66;03m###############\u001b[39;00m\n\u001b[0;32m    561\u001b[0m \u001b[38;5;66;03m# OAuth Routes\u001b[39;00m\n\u001b[0;32m    562\u001b[0m \u001b[38;5;66;03m###############\u001b[39;00m\n\u001b[1;32m   (...)\u001b[0m\n\u001b[0;32m    565\u001b[0m \u001b[38;5;66;03m# It allows users to \"Sign in with HuggingFace\". Otherwise, add the default\u001b[39;00m\n\u001b[0;32m    566\u001b[0m \u001b[38;5;66;03m# logout route.\u001b[39;00m\n\u001b[0;32m    567\u001b[0m \u001b[38;5;28;01mif\u001b[39;00m app\u001b[38;5;241m.\u001b[39mblocks \u001b[38;5;129;01mis\u001b[39;00m \u001b[38;5;129;01mnot\u001b[39;00m \u001b[38;5;28;01mNone\u001b[39;00m \u001b[38;5;129;01mand\u001b[39;00m app\u001b[38;5;241m.\u001b[39mblocks\u001b[38;5;241m.\u001b[39mexpects_oauth:\n\u001b[1;32m--> 568\u001b[0m     \u001b[43mattach_oauth\u001b[49m\u001b[43m(\u001b[49m\u001b[43mapp\u001b[49m\u001b[43m)\u001b[49m\n\u001b[0;32m    569\u001b[0m \u001b[38;5;28;01melse\u001b[39;00m:\n\u001b[0;32m    571\u001b[0m     \u001b[38;5;129m@app\u001b[39m\u001b[38;5;241m.\u001b[39mget(\u001b[38;5;124m\"\u001b[39m\u001b[38;5;124m/logout\u001b[39m\u001b[38;5;124m\"\u001b[39m)\n\u001b[0;32m    572\u001b[0m     \u001b[38;5;28;01mdef\u001b[39;00m\u001b[38;5;250m \u001b[39m\u001b[38;5;21mlogout\u001b[39m(request: fastapi\u001b[38;5;241m.\u001b[39mRequest, user: \u001b[38;5;28mstr\u001b[39m \u001b[38;5;241m=\u001b[39m Depends(get_current_user)):\n",
      "File \u001b[1;32mc:\\Users\\andrea.giorni\\Desktop\\code\\Hugging face Agent course\\Final_Assignment_Template\\.venv310\\lib\\site-packages\\gradio\\oauth.py:41\u001b[0m, in \u001b[0;36mattach_oauth\u001b[1;34m(app)\u001b[0m\n\u001b[0;32m     39\u001b[0m     _add_oauth_routes(app)\n\u001b[0;32m     40\u001b[0m \u001b[38;5;28;01melse\u001b[39;00m:\n\u001b[1;32m---> 41\u001b[0m     \u001b[43m_add_mocked_oauth_routes\u001b[49m\u001b[43m(\u001b[49m\u001b[43mapp\u001b[49m\u001b[43m)\u001b[49m\n\u001b[0;32m     43\u001b[0m \u001b[38;5;66;03m# Session Middleware requires a secret key to sign the cookies. Let's use a hash\u001b[39;00m\n\u001b[0;32m     44\u001b[0m \u001b[38;5;66;03m# of the OAuth secret key to make it unique to the Space + updated in case OAuth\u001b[39;00m\n\u001b[0;32m     45\u001b[0m \u001b[38;5;66;03m# config gets updated.\u001b[39;00m\n\u001b[0;32m     46\u001b[0m session_secret \u001b[38;5;241m=\u001b[39m (OAUTH_CLIENT_SECRET \u001b[38;5;129;01mor\u001b[39;00m \u001b[38;5;124m\"\u001b[39m\u001b[38;5;124m\"\u001b[39m) \u001b[38;5;241m+\u001b[39m \u001b[38;5;124m\"\u001b[39m\u001b[38;5;124m-v4\u001b[39m\u001b[38;5;124m\"\u001b[39m\n",
      "File \u001b[1;32mc:\\Users\\andrea.giorni\\Desktop\\code\\Hugging face Agent course\\Final_Assignment_Template\\.venv310\\lib\\site-packages\\gradio\\oauth.py:167\u001b[0m, in \u001b[0;36m_add_mocked_oauth_routes\u001b[1;34m(app)\u001b[0m\n\u001b[0;32m    157\u001b[0m \u001b[38;5;250m\u001b[39m\u001b[38;5;124;03m\"\"\"Add fake oauth routes if Gradio is run locally and OAuth is enabled.\u001b[39;00m\n\u001b[0;32m    158\u001b[0m \n\u001b[0;32m    159\u001b[0m \u001b[38;5;124;03mClicking on a gr.LoginButton will have the same behavior as in a Space (i.e. gets redirected in a new tab) but\u001b[39;00m\n\u001b[0;32m    160\u001b[0m \u001b[38;5;124;03minstead of authenticating with HF, a mocked user profile is added to the session.\u001b[39;00m\n\u001b[0;32m    161\u001b[0m \u001b[38;5;124;03m\"\"\"\u001b[39;00m\n\u001b[0;32m    162\u001b[0m warnings\u001b[38;5;241m.\u001b[39mwarn(\n\u001b[0;32m    163\u001b[0m     \u001b[38;5;124m\"\u001b[39m\u001b[38;5;124mGradio does not support OAuth features outside of a Space environment. To help\u001b[39m\u001b[38;5;124m\"\u001b[39m\n\u001b[0;32m    164\u001b[0m     \u001b[38;5;124m\"\u001b[39m\u001b[38;5;124m you debug your app locally, the login and logout buttons are mocked with your\u001b[39m\u001b[38;5;124m\"\u001b[39m\n\u001b[0;32m    165\u001b[0m     \u001b[38;5;124m\"\u001b[39m\u001b[38;5;124m profile. To make it work, your machine must be logged in to Huggingface.\u001b[39m\u001b[38;5;124m\"\u001b[39m\n\u001b[0;32m    166\u001b[0m )\n\u001b[1;32m--> 167\u001b[0m mocked_oauth_info \u001b[38;5;241m=\u001b[39m \u001b[43m_get_mocked_oauth_info\u001b[49m\u001b[43m(\u001b[49m\u001b[43m)\u001b[49m\n\u001b[0;32m    169\u001b[0m \u001b[38;5;66;03m# Define OAuth routes\u001b[39;00m\n\u001b[0;32m    170\u001b[0m \u001b[38;5;129m@app\u001b[39m\u001b[38;5;241m.\u001b[39mget(\u001b[38;5;124m\"\u001b[39m\u001b[38;5;124m/login/huggingface\u001b[39m\u001b[38;5;124m\"\u001b[39m)\n\u001b[0;32m    171\u001b[0m \u001b[38;5;28;01masync\u001b[39;00m \u001b[38;5;28;01mdef\u001b[39;00m\u001b[38;5;250m \u001b[39m\u001b[38;5;21moauth_login\u001b[39m(request: fastapi\u001b[38;5;241m.\u001b[39mRequest):  \u001b[38;5;66;03m# noqa: ARG001\u001b[39;00m\n",
      "File \u001b[1;32mc:\\Users\\andrea.giorni\\Desktop\\code\\Hugging face Agent course\\Final_Assignment_Template\\.venv310\\lib\\site-packages\\gradio\\oauth.py:310\u001b[0m, in \u001b[0;36m_get_mocked_oauth_info\u001b[1;34m()\u001b[0m\n\u001b[0;32m    308\u001b[0m token \u001b[38;5;241m=\u001b[39m get_token()\n\u001b[0;32m    309\u001b[0m \u001b[38;5;28;01mif\u001b[39;00m token \u001b[38;5;129;01mis\u001b[39;00m \u001b[38;5;28;01mNone\u001b[39;00m:\n\u001b[1;32m--> 310\u001b[0m     \u001b[38;5;28;01mraise\u001b[39;00m \u001b[38;5;167;01mValueError\u001b[39;00m(\n\u001b[0;32m    311\u001b[0m         \u001b[38;5;124m\"\u001b[39m\u001b[38;5;124mYour machine must be logged in to HF to debug a Gradio app locally. Please\u001b[39m\u001b[38;5;124m\"\u001b[39m\n\u001b[0;32m    312\u001b[0m         \u001b[38;5;124m\"\u001b[39m\u001b[38;5;124m run `huggingface-cli login` or set `HF_TOKEN` as environment variable \u001b[39m\u001b[38;5;124m\"\u001b[39m\n\u001b[0;32m    313\u001b[0m         \u001b[38;5;124m\"\u001b[39m\u001b[38;5;124mwith one of your access token. You can generate a new token in your \u001b[39m\u001b[38;5;124m\"\u001b[39m\n\u001b[0;32m    314\u001b[0m         \u001b[38;5;124m\"\u001b[39m\u001b[38;5;124msettings page (https://huggingface.co/settings/tokens).\u001b[39m\u001b[38;5;124m\"\u001b[39m\n\u001b[0;32m    315\u001b[0m     )\n\u001b[0;32m    317\u001b[0m user \u001b[38;5;241m=\u001b[39m whoami()\n\u001b[0;32m    318\u001b[0m \u001b[38;5;28;01mif\u001b[39;00m user[\u001b[38;5;124m\"\u001b[39m\u001b[38;5;124mtype\u001b[39m\u001b[38;5;124m\"\u001b[39m] \u001b[38;5;241m!=\u001b[39m \u001b[38;5;124m\"\u001b[39m\u001b[38;5;124muser\u001b[39m\u001b[38;5;124m\"\u001b[39m:\n",
      "\u001b[1;31mValueError\u001b[0m: Your machine must be logged in to HF to debug a Gradio app locally. Please run `huggingface-cli login` or set `HF_TOKEN` as environment variable with one of your access token. You can generate a new token in your settings page (https://huggingface.co/settings/tokens)."
     ]
    }
   ],
   "source": [
    "import app"
   ]
  },
  {
   "cell_type": "code",
   "execution_count": null,
   "id": "5def4105",
   "metadata": {},
   "outputs": [],
   "source": []
  }
 ],
 "metadata": {
  "kernelspec": {
   "display_name": ".venv310 (3.10.0)",
   "language": "python",
   "name": "python3"
  },
  "language_info": {
   "codemirror_mode": {
    "name": "ipython",
    "version": 3
   },
   "file_extension": ".py",
   "mimetype": "text/x-python",
   "name": "python",
   "nbconvert_exporter": "python",
   "pygments_lexer": "ipython3",
   "version": "3.10.0"
  }
 },
 "nbformat": 4,
 "nbformat_minor": 5
}
