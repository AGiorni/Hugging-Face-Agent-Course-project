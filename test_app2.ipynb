{
 "cells": [
  {
   "cell_type": "code",
   "execution_count": 1,
   "id": "8c3eda07",
   "metadata": {},
   "outputs": [],
   "source": [
    "%load_ext autoreload\n",
    "\n",
    "%autoreload 2"
   ]
  },
  {
   "cell_type": "code",
   "execution_count": 7,
   "id": "31ef3bc0",
   "metadata": {},
   "outputs": [],
   "source": [
    "from main_agent import Agent\n",
    "import os\n",
    "import requests\n",
    "import pandas as pd\n",
    "import tempfile"
   ]
  },
  {
   "cell_type": "code",
   "execution_count": 8,
   "id": "64e382be",
   "metadata": {},
   "outputs": [],
   "source": [
    "DEFAULT_API_URL = \"https://agents-course-unit4-scoring.hf.space\"\n",
    "api_url = DEFAULT_API_URL\n",
    "questions_url = f\"{api_url}/questions\"\n",
    "submit_url = f\"{api_url}/submit\"\n",
    "files_url = f\"{api_url}/files\"\n",
    "\n",
    "response = requests.get(questions_url, timeout=15)\n",
    "response.raise_for_status()\n",
    "questions_data = response.json()\n",
    "\n",
    "for i, item in enumerate(questions_data):\n",
    "\n",
    "    process = [3]\n",
    "    if i not in process:\n",
    "        continue\n",
    "\n",
    "    task_id = item.get(\"task_id\")\n",
    "    question_text = item.get(\"question\")"
   ]
  },
  {
   "cell_type": "code",
   "execution_count": 9,
   "id": "5076d2ac",
   "metadata": {},
   "outputs": [
    {
     "data": {
      "text/plain": [
       "\"Review the chess position provided in the image. It is black's turn. Provide the correct next move for black which guarantees a win. Please provide your response in algebraic notation.\""
      ]
     },
     "execution_count": 9,
     "metadata": {},
     "output_type": "execute_result"
    }
   ],
   "source": [
    "question_text"
   ]
  },
  {
   "cell_type": "code",
   "execution_count": 10,
   "id": "c3d1d2be",
   "metadata": {},
   "outputs": [],
   "source": [
    "# get question\n",
    "\n",
    "def test_run():\n",
    "\n",
    "    space_id = \"andrea-giorni/agents-course-unit4-basic-agent\"\n",
    "\n",
    "    DEFAULT_API_URL = \"https://agents-course-unit4-scoring.hf.space\"\n",
    "    api_url = DEFAULT_API_URL\n",
    "    questions_url = f\"{api_url}/questions\"\n",
    "    submit_url = f\"{api_url}/submit\"\n",
    "    files_url = f\"{api_url}/files\"\n",
    "\n",
    "    # 1. Instantiate Agent ( modify this part to create your agent)\n",
    "    try:\n",
    "        agent = Agent()\n",
    "    except Exception as e:\n",
    "        print(f\"Error instantiating agent: {e}\")\n",
    "        return f\"Error initializing agent: {e}\", None\n",
    "    # In the case of an app running as a hugging Face space, this link points toward your codebase (usefull for others so please keep it public)\n",
    "    agent_code = f\"https://huggingface.co/spaces/{space_id}/tree/main\"\n",
    "    print(agent_code)\n",
    "\n",
    "    # 2. Fetch Questions\n",
    "    print(f\"Fetching questions from: {questions_url}\")\n",
    "    try:\n",
    "        response = requests.get(questions_url, timeout=15)\n",
    "        response.raise_for_status()\n",
    "        questions_data = response.json()\n",
    "        if not questions_data:\n",
    "            print(\"Fetched questions list is empty.\")\n",
    "            return \"Fetched questions list is empty or invalid format.\", None\n",
    "        print(f\"Fetched {len(questions_data)} questions.\")\n",
    "    except requests.exceptions.RequestException as e:\n",
    "        print(f\"Error fetching questions: {e}\")\n",
    "        return f\"Error fetching questions: {e}\", None\n",
    "    except requests.exceptions.JSONDecodeError as e:\n",
    "        print(f\"Error decoding JSON response from questions endpoint: {e}\")\n",
    "        print(f\"Response text: {response.text[:500]}\")\n",
    "        return f\"Error decoding server response for questions: {e}\", None\n",
    "    except Exception as e:\n",
    "        print(f\"An unexpected error occurred fetching questions: {e}\")\n",
    "        return f\"An unexpected error occurred fetching questions: {e}\", None\n",
    "\n",
    "    # 3. Run your Agent\n",
    "    results_log = []\n",
    "    answers_payload = []\n",
    "    print(f\"Running agent on {len(questions_data)} questions...\")\n",
    "    for i, item in enumerate(questions_data):\n",
    "\n",
    "        process = [3]\n",
    "        if i not in process:\n",
    "            continue\n",
    "\n",
    "        task_id = item.get(\"task_id\")\n",
    "        question_text = item.get(\"question\")\n",
    "        if not task_id or question_text is None:\n",
    "            print(f\"Skipping item with missing task_id or question: {item}\")\n",
    "            continue\n",
    "        try:\n",
    "            file_path: Optional[str] = None\n",
    "            try:\n",
    "                file_response = requests.get(f\"{files_url}/{task_id}\", timeout=15)\n",
    "                if file_response.status_code == 200 and file_response.content:\n",
    "                    # Get filename from Content-Disposition header or URL\n",
    "                    filename = None\n",
    "                    content_disposition = file_response.headers.get(\n",
    "                        \"Content-Disposition\"\n",
    "                    )\n",
    "                    if content_disposition and \"filename=\" in content_disposition:\n",
    "                        filename = content_disposition.split(\"filename=\")[-1].strip('\"')\n",
    "                    else:\n",
    "                        # Try to get filename from URL\n",
    "                        url = file_response.url\n",
    "                        filename = url.split(\"/\")[-1]\n",
    "                        if not filename or filename == str(task_id):\n",
    "                            filename = f\"file_{task_id}\"\n",
    "\n",
    "                    # Create temp directory and save file with original name\n",
    "                    temp_dir = tempfile.mkdtemp()\n",
    "                    file_path = os.path.join(temp_dir, filename)\n",
    "                    with open(file_path, \"wb\") as f:\n",
    "                        f.write(file_response.content)\n",
    "                    print(f\"Downloaded file for task {task_id} to {file_path}\")\n",
    "                else:\n",
    "                    print(f\"No file for task {task_id} or file is empty.\")\n",
    "            except Exception as e:\n",
    "                print(f\"Error downloading file for task {task_id}: {e}\")\n",
    "                file_path = None\n",
    "\n",
    "            submitted_answer = agent.builder.invoke(\n",
    "                input={'messages': question_text,\n",
    "                'file_path': file_path}\n",
    "                )\n",
    "            answers_payload.append(\n",
    "                {\"task_id\": task_id, \"submitted_answer\": submitted_answer}\n",
    "            )\n",
    "            results_log.append(\n",
    "                {\n",
    "                    \"Task ID\": task_id,\n",
    "                    \"Question\": question_text,\n",
    "                    \"Submitted Answer\": submitted_answer,\n",
    "                }\n",
    "            )\n",
    "        except Exception as e:\n",
    "            print(f\"Error running agent on task {task_id}: {e}\")\n",
    "            results_log.append(\n",
    "                {\n",
    "                    \"Task ID\": task_id,\n",
    "                    \"Question\": question_text,\n",
    "                    \"Submitted Answer\": f\"AGENT ERROR: {e}\",\n",
    "                }\n",
    "            )\n",
    "\n",
    "    if not answers_payload:\n",
    "        print(\"Agent did not produce any answers to submit.\")\n",
    "        return \"Agent did not produce any answers to submit.\", pd.DataFrame(results_log)\n",
    "    return results_log\n",
    "    "
   ]
  },
  {
   "cell_type": "code",
   "execution_count": 11,
   "id": "2d2800d9",
   "metadata": {},
   "outputs": [
    {
     "name": "stdout",
     "output_type": "stream",
     "text": [
      "https://huggingface.co/spaces/andrea-giorni/agents-course-unit4-basic-agent/tree/main\n",
      "Fetching questions from: https://agents-course-unit4-scoring.hf.space/questions\n",
      "Fetched 20 questions.\n",
      "Running agent on 20 questions...\n",
      "Downloaded file for task cca530fc-4052-43b2-b130-b30968d8aa44 to C:\\Users\\ANDREA~1.GIO\\AppData\\Local\\Temp\\tmpvysw5uzj\\cca530fc-4052-43b2-b130-b30968d8aa44.png\n"
     ]
    },
    {
     "data": {
      "text/plain": [
       "[{'Task ID': 'cca530fc-4052-43b2-b130-b30968d8aa44',\n",
       "  'Question': \"Review the chess position provided in the image. It is black's turn. Provide the correct next move for black which guarantees a win. Please provide your response in algebraic notation.\",\n",
       "  'Submitted Answer': {'messages': [HumanMessage(content=\"Review the chess position provided in the image. It is black's turn. Provide the correct next move for black which guarantees a win. Please provide your response in algebraic notation.\", additional_kwargs={}, response_metadata={}, id='06b6aeb0-6ee4-431b-b612-6656344186a3'),\n",
       "    SystemMessage(content='File path provided: C:\\\\Users\\\\ANDREA~1.GIO\\\\AppData\\\\Local\\\\Temp\\\\tmpvysw5uzj\\\\cca530fc-4052-43b2-b130-b30968d8aa44.png', additional_kwargs={}, response_metadata={}, id='090a87ef-a41b-4cb7-b0b8-bbd9b67a985c'),\n",
       "    AIMessage(content='', additional_kwargs={'tool_calls': [{'id': 'call_9k5K33EtplnDY0qTud6PeFki', 'function': {'arguments': '{\"image_path\":\"C:\\\\\\\\Users\\\\\\\\ANDREA~1.GIO\\\\\\\\AppData\\\\\\\\Local\\\\\\\\Temp\\\\\\\\tmpvysw5uzj\\\\\\\\cca530fc-4052-43b2-b130-b30968d8aa44.png\"}', 'name': 'image-analyser'}, 'type': 'function'}], 'refusal': None}, response_metadata={'token_usage': {'completion_tokens': 62, 'prompt_tokens': 381, 'total_tokens': 443, 'completion_tokens_details': {'accepted_prediction_tokens': 0, 'audio_tokens': 0, 'reasoning_tokens': 0, 'rejected_prediction_tokens': 0}, 'prompt_tokens_details': {'audio_tokens': 0, 'cached_tokens': 0}}, 'model_name': 'gpt-4o-2024-11-20', 'system_fingerprint': 'fp_ee1d74bde0', 'id': 'chatcmpl-CGGh1yEgXBhEreyd0aKAmRczBe5G4', 'service_tier': None, 'prompt_filter_results': [{'prompt_index': 0, 'content_filter_results': {'hate': {'filtered': False, 'severity': 'safe'}, 'jailbreak': {'filtered': False, 'detected': False}, 'self_harm': {'filtered': False, 'severity': 'safe'}, 'sexual': {'filtered': False, 'severity': 'safe'}, 'violence': {'filtered': False, 'severity': 'safe'}}}], 'finish_reason': 'tool_calls', 'logprobs': None, 'content_filter_results': {}}, id='run--1bdae0df-3aec-4584-aef8-118df8cea3d3-0', tool_calls=[{'name': 'image-analyser', 'args': {'image_path': 'C:\\\\Users\\\\ANDREA~1.GIO\\\\AppData\\\\Local\\\\Temp\\\\tmpvysw5uzj\\\\cca530fc-4052-43b2-b130-b30968d8aa44.png'}, 'id': 'call_9k5K33EtplnDY0qTud6PeFki', 'type': 'tool_call'}], usage_metadata={'input_tokens': 381, 'output_tokens': 62, 'total_tokens': 443, 'input_token_details': {'audio': 0, 'cache_read': 0}, 'output_token_details': {'audio': 0, 'reasoning': 0}}),\n",
       "    ToolMessage(content=\"This image depicts a chess position on a standard 8x8 chessboard. The pieces are arranged as follows:\\n\\n### **White Pieces:**\\n- **King**: g1\\n- **Queen**: h5\\n- **Rooks**: e3\\n- **Bishops**: d3, c3\\n- **Pawns**: f2, g2, h3, a3\\n\\n### **Black Pieces:**\\n- **King**: g8\\n- **Queen**: b3\\n- **Rook**: d8\\n- **Bishop**: e6\\n- **Knight**: d4\\n- **Pawns**: f7, g7, h7, a7, b7, h6\\n\\nThe position appears to be in the middle or late stage of the game, with both sides having developed their pieces. Black's queen is aggressively placed on b3, and the knight on d4 is centralized. White's queen on h5 is threatening, and White has strong control over the center with the bishops and rook.\", name='image-analyser', id='b123287f-3d9b-4605-b95d-9f2ce541ed74', tool_call_id='call_9k5K33EtplnDY0qTud6PeFki'),\n",
       "    SystemMessage(content='File path provided: C:\\\\Users\\\\ANDREA~1.GIO\\\\AppData\\\\Local\\\\Temp\\\\tmpvysw5uzj\\\\cca530fc-4052-43b2-b130-b30968d8aa44.png', additional_kwargs={}, response_metadata={}, id='8afd3ce6-3fb6-486b-a8cf-68471f0acf96'),\n",
       "    AIMessage(content='Qb1+', additional_kwargs={'refusal': None}, response_metadata={'token_usage': {'completion_tokens': 6, 'prompt_tokens': 726, 'total_tokens': 732, 'completion_tokens_details': {'accepted_prediction_tokens': 0, 'audio_tokens': 0, 'reasoning_tokens': 0, 'rejected_prediction_tokens': 0}, 'prompt_tokens_details': {'audio_tokens': 0, 'cached_tokens': 0}}, 'model_name': 'gpt-4o-2024-11-20', 'system_fingerprint': 'fp_ee1d74bde0', 'id': 'chatcmpl-CGGh79wNX9bhXB2uUKwyKStFSCDzG', 'service_tier': None, 'prompt_filter_results': [{'prompt_index': 0, 'content_filter_results': {'hate': {'filtered': False, 'severity': 'safe'}, 'jailbreak': {'filtered': False, 'detected': False}, 'self_harm': {'filtered': False, 'severity': 'safe'}, 'sexual': {'filtered': False, 'severity': 'safe'}, 'violence': {'filtered': False, 'severity': 'safe'}}}], 'finish_reason': 'stop', 'logprobs': None, 'content_filter_results': {'hate': {'filtered': False, 'severity': 'safe'}, 'protected_material_code': {'filtered': False, 'detected': False}, 'protected_material_text': {'filtered': False, 'detected': False}, 'self_harm': {'filtered': False, 'severity': 'safe'}, 'sexual': {'filtered': False, 'severity': 'safe'}, 'violence': {'filtered': False, 'severity': 'safe'}}}, id='run--217b1dea-81ed-435c-bc1f-1457c90f9e99-0', usage_metadata={'input_tokens': 726, 'output_tokens': 6, 'total_tokens': 732, 'input_token_details': {'audio': 0, 'cache_read': 0}, 'output_token_details': {'audio': 0, 'reasoning': 0}})],\n",
       "   'file_path': 'C:\\\\Users\\\\ANDREA~1.GIO\\\\AppData\\\\Local\\\\Temp\\\\tmpvysw5uzj\\\\cca530fc-4052-43b2-b130-b30968d8aa44.png'}}]"
      ]
     },
     "execution_count": 11,
     "metadata": {},
     "output_type": "execute_result"
    }
   ],
   "source": [
    "test_run()"
   ]
  },
  {
   "cell_type": "code",
   "execution_count": 22,
   "id": "3fe6e623",
   "metadata": {},
   "outputs": [
    {
     "ename": "NameError",
     "evalue": "name 'results_log' is not defined",
     "output_type": "error",
     "traceback": [
      "\u001b[31m---------------------------------------------------------------------------\u001b[39m",
      "\u001b[31mNameError\u001b[39m                                 Traceback (most recent call last)",
      "\u001b[36mCell\u001b[39m\u001b[36m \u001b[39m\u001b[32mIn[22]\u001b[39m\u001b[32m, line 1\u001b[39m\n\u001b[32m----> \u001b[39m\u001b[32m1\u001b[39m \u001b[43mresults_log\u001b[49m\n",
      "\u001b[31mNameError\u001b[39m: name 'results_log' is not defined"
     ]
    }
   ],
   "source": [
    "results_log"
   ]
  },
  {
   "cell_type": "code",
   "execution_count": null,
   "id": "ee202a8a",
   "metadata": {},
   "outputs": [],
   "source": [
    "submitted_answer = agent.builder.invoke(question_text, file_path)"
   ]
  }
 ],
 "metadata": {
  "kernelspec": {
   "display_name": ".venv310 (3.10.0)",
   "language": "python",
   "name": "python3"
  },
  "language_info": {
   "codemirror_mode": {
    "name": "ipython",
    "version": 3
   },
   "file_extension": ".py",
   "mimetype": "text/x-python",
   "name": "python",
   "nbconvert_exporter": "python",
   "pygments_lexer": "ipython3",
   "version": "3.10.0"
  }
 },
 "nbformat": 4,
 "nbformat_minor": 5
}
