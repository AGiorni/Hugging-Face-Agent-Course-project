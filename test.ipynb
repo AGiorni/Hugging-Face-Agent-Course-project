{
 "cells": [
  {
   "cell_type": "code",
   "execution_count": 1,
   "id": "3f7d8cca",
   "metadata": {},
   "outputs": [],
   "source": [
    "%load_ext autoreload\n",
    "\n",
    "%autoreload 2"
   ]
  },
  {
   "cell_type": "code",
   "execution_count": 2,
   "id": "bbd5b78b",
   "metadata": {},
   "outputs": [],
   "source": [
    "import main_agent as ma\n",
    "import prompts_lib as pl\n"
   ]
  },
  {
   "cell_type": "code",
   "execution_count": null,
   "id": "9d00e0ae",
   "metadata": {},
   "outputs": [],
   "source": [
    "from langfuse import Langfuse\n",
    "from langfuse.langchain import CallbackHandler\n",
    "\n",
    "langfuse = Langfuse(\n",
    "    public_key=\"pk-lf-61f55889-2dd2-47a1-ab49-99c60b7ddb40\",\n",
    "    secret_key=\"sk-lf-632ab357-d225-421f-9f75-7f6685960c50\",\n",
    "    host=\"https://cloud.langfuse.com\"\n",
    ")\n",
    "\n",
    "langfuse_handler = CallbackHandler()"
   ]
  },
  {
   "cell_type": "code",
   "execution_count": 11,
   "id": "e097a098",
   "metadata": {},
   "outputs": [],
   "source": [
    "logfuse = False\n",
    "\n",
    "class BasicAgent:\n",
    "    def __init__(self):\n",
    "        self.agent = ma.agent\n",
    "        self.responses = []\n",
    "    def __call__(self, question: str) -> str:\n",
    "        print(f\"Agent received question (first 50 chars): {question[:50]}...\")\n",
    "\n",
    "        # message = pl.system_prompt2 + question\n",
    "        if logfuse:\n",
    "            response = self.agent.invoke(\n",
    "                input={'messages': question},\n",
    "                config={\"callbacks\": [langfuse_handler]}\n",
    "                )\n",
    "        else:\n",
    "            response = self.agent.invoke(input={'messages': question})\n",
    "        \n",
    "        self.responses.append(response)\n",
    "\n",
    "\n",
    "        answer = response.get('messages')[1].content\n",
    "\n",
    "        # fixed_answer = \"This is a default answer.\"\n",
    "        print(f\"Agent returning answer: {answer}\")\n",
    "        return answer"
   ]
  },
  {
   "cell_type": "code",
   "execution_count": 12,
   "id": "af68a6a5",
   "metadata": {},
   "outputs": [],
   "source": [
    "agent = BasicAgent()"
   ]
  },
  {
   "cell_type": "code",
   "execution_count": 13,
   "id": "02c87f0c",
   "metadata": {},
   "outputs": [
    {
     "name": "stdout",
     "output_type": "stream",
     "text": [
      "Agent received question (first 50 chars): \n",
      "How many studio albums were published by Mercedes...\n",
      "Agent returning answer: \n"
     ]
    }
   ],
   "source": [
    "question = \"\"\"\n",
    "How many studio albums were published by Mercedes Sousa between 2000 and 2009 included?\n",
    " use duckduckgo tool you have available to search wikipedia to respond\n",
    "\"\"\"\n",
    "\n",
    "question = \"\"\"\n",
    "How many studio albums were published by Mercedes Sousa between 2000 and 2009 included?\n",
    "you can use the latest 2022 version of the english wikipedia\n",
    "\"\"\"\n",
    "\n",
    "answer = agent(question)"
   ]
  },
  {
   "cell_type": "code",
   "execution_count": 15,
   "id": "aef6eef2",
   "metadata": {},
   "outputs": [
    {
     "data": {
      "text/plain": [
       "1"
      ]
     },
     "execution_count": 15,
     "metadata": {},
     "output_type": "execute_result"
    }
   ],
   "source": [
    "len(agent.responses)"
   ]
  },
  {
   "cell_type": "code",
   "execution_count": 20,
   "id": "a067f206",
   "metadata": {},
   "outputs": [
    {
     "data": {
      "text/plain": [
       "[HumanMessage(content='\\nHow many studio albums were published by Mercedes Sousa between 2000 and 2009 included?\\nyou can use the latest 2022 version of the english wikipedia\\n', additional_kwargs={}, response_metadata={}, id='fd6395c5-f87b-4ded-83b5-02e7eed41f84'),\n",
       " AIMessage(content='', additional_kwargs={'tool_calls': [{'id': 'call_wvcdxWEk8P0BX8iwCXkfFpDP', 'function': {'arguments': '{\"__arg1\":\"Mercedes Sosa studio albums 2000 to 2009 site:en.wikipedia.org\"}', 'name': 'duckduckgo_search'}, 'type': 'function'}], 'refusal': None}, response_metadata={'token_usage': {'completion_tokens': 36, 'prompt_tokens': 271, 'total_tokens': 307, 'completion_tokens_details': {'accepted_prediction_tokens': 0, 'audio_tokens': 0, 'reasoning_tokens': 0, 'rejected_prediction_tokens': 0}, 'prompt_tokens_details': {'audio_tokens': 0, 'cached_tokens': 0}}, 'model_name': 'gpt-4o-2024-11-20', 'system_fingerprint': 'fp_ee1d74bde0', 'id': 'chatcmpl-CFusZ9dXozBGmKrkuACf3ZtbIeoNC', 'service_tier': None, 'prompt_filter_results': [{'prompt_index': 0, 'content_filter_results': {'hate': {'filtered': False, 'severity': 'safe'}, 'jailbreak': {'filtered': False, 'detected': False}, 'self_harm': {'filtered': False, 'severity': 'safe'}, 'sexual': {'filtered': False, 'severity': 'safe'}, 'violence': {'filtered': False, 'severity': 'safe'}}}], 'finish_reason': 'tool_calls', 'logprobs': None, 'content_filter_results': {}}, id='run--5581304b-78fc-4b39-add7-de8d5554c1e8-0', tool_calls=[{'name': 'duckduckgo_search', 'args': {'__arg1': 'Mercedes Sosa studio albums 2000 to 2009 site:en.wikipedia.org'}, 'id': 'call_wvcdxWEk8P0BX8iwCXkfFpDP', 'type': 'tool_call'}], usage_metadata={'input_tokens': 271, 'output_tokens': 36, 'total_tokens': 307, 'input_token_details': {'audio': 0, 'cache_read': 0}, 'output_token_details': {'audio': 0, 'reasoning': 0}}),\n",
       " ToolMessage(content='The 10th Annual Latin Grammy Awards took place on Thursday, November 5, 2009 , at the Mandalay Bay Events Center in Las Vegas, Nevada. This was the second time the show took place in Las Vegas. Juan Gabriel was honored as the Latin Recording Academy P... Shakira performing \"Don\\'t Bother\" at Rock in Rio in 2008. The Colombian singer Shakira has recorded songs for twelve studio albums , three compilation albums , two live albums and two promotional albums . The album was recorded in Buenos Aires, Argentina, In the first phase, double bass, violin, bandoneon, guitar and piano were recorded, then strings orchestra under the direction of Alejandro Terán.Adrián Sosa . Studio albums . Bajofondo Tango Club. Mar dulce. 1000 Hurts is the third studio album by American rock band Shellac, released on August 8, 2000 . In its official promotional materials Shellac jokingly described this album as follows: \"There are no 12-minute songs on this one. This record is mor... The discography of the post-hardcore band ...And You Will Know Us by the Trail of Dead consists of 11 studio albums , one live album , 22 singles, five EPs and 25 music videos. Albums . Studio albums . Live albums . Extended plays. Split EPs. Singles. Oth...', name='duckduckgo_search', id='8c1c55dc-d10f-4dba-848f-2f2a0ec3de64', tool_call_id='call_wvcdxWEk8P0BX8iwCXkfFpDP'),\n",
       " AIMessage(content='2', additional_kwargs={'refusal': None}, response_metadata={'token_usage': {'completion_tokens': 3, 'prompt_tokens': 597, 'total_tokens': 600, 'completion_tokens_details': {'accepted_prediction_tokens': 0, 'audio_tokens': 0, 'reasoning_tokens': 0, 'rejected_prediction_tokens': 0}, 'prompt_tokens_details': {'audio_tokens': 0, 'cached_tokens': 0}}, 'model_name': 'gpt-4o-2024-11-20', 'system_fingerprint': 'fp_ee1d74bde0', 'id': 'chatcmpl-CFuscjskeYhun2hoXrOtB5JiYmUSI', 'service_tier': None, 'prompt_filter_results': [{'prompt_index': 0, 'content_filter_results': {'hate': {'filtered': False, 'severity': 'safe'}, 'jailbreak': {'filtered': False, 'detected': False}, 'self_harm': {'filtered': False, 'severity': 'safe'}, 'sexual': {'filtered': False, 'severity': 'safe'}, 'violence': {'filtered': False, 'severity': 'safe'}}}], 'finish_reason': 'stop', 'logprobs': None, 'content_filter_results': {'hate': {'filtered': False, 'severity': 'safe'}, 'protected_material_code': {'filtered': False, 'detected': False}, 'protected_material_text': {'filtered': False, 'detected': False}, 'self_harm': {'filtered': False, 'severity': 'safe'}, 'sexual': {'filtered': False, 'severity': 'safe'}, 'violence': {'filtered': False, 'severity': 'safe'}}}, id='run--6e8c9956-0bc1-4457-9e07-4ff9e9ea6104-0', usage_metadata={'input_tokens': 597, 'output_tokens': 3, 'total_tokens': 600, 'input_token_details': {'audio': 0, 'cache_read': 0}, 'output_token_details': {'audio': 0, 'reasoning': 0}})]"
      ]
     },
     "execution_count": 20,
     "metadata": {},
     "output_type": "execute_result"
    }
   ],
   "source": [
    "agent.responses[0].get('messages')"
   ]
  },
  {
   "cell_type": "code",
   "execution_count": 21,
   "id": "8cb9b3e1",
   "metadata": {},
   "outputs": [
    {
     "data": {
      "text/plain": [
       "{langchain_core.messages.human.HumanMessage: '\\nHow many studio albums were published by Mercedes Sousa between 2000 and 2009 included?\\nyou can use the latest 2022 version of the english wikipedia\\n',\n",
       " langchain_core.messages.ai.AIMessage: '2',\n",
       " langchain_core.messages.tool.ToolMessage: 'The 10th Annual Latin Grammy Awards took place on Thursday, November 5, 2009 , at the Mandalay Bay Events Center in Las Vegas, Nevada. This was the second time the show took place in Las Vegas. Juan Gabriel was honored as the Latin Recording Academy P... Shakira performing \"Don\\'t Bother\" at Rock in Rio in 2008. The Colombian singer Shakira has recorded songs for twelve studio albums , three compilation albums , two live albums and two promotional albums . The album was recorded in Buenos Aires, Argentina, In the first phase, double bass, violin, bandoneon, guitar and piano were recorded, then strings orchestra under the direction of Alejandro Terán.Adrián Sosa . Studio albums . Bajofondo Tango Club. Mar dulce. 1000 Hurts is the third studio album by American rock band Shellac, released on August 8, 2000 . In its official promotional materials Shellac jokingly described this album as follows: \"There are no 12-minute songs on this one. This record is mor... The discography of the post-hardcore band ...And You Will Know Us by the Trail of Dead consists of 11 studio albums , one live album , 22 singles, five EPs and 25 music videos. Albums . Studio albums . Live albums . Extended plays. Split EPs. Singles. Oth...'}"
      ]
     },
     "execution_count": 21,
     "metadata": {},
     "output_type": "execute_result"
    }
   ],
   "source": [
    "{type(m): m.content for m in agent.responses[0].get('messages')}"
   ]
  },
  {
   "cell_type": "code",
   "execution_count": 23,
   "id": "069db350",
   "metadata": {},
   "outputs": [
    {
     "name": "stdout",
     "output_type": "stream",
     "text": [
      "<class 'langchain_core.messages.human.HumanMessage'>: \n",
      "How many studio albums were published by Mercedes Sousa between 2000 and 2009 included?\n",
      "you can use the latest 2022 version of the english wikipedia\n",
      "\n",
      "<class 'langchain_core.messages.ai.AIMessage'>: \n",
      "<class 'langchain_core.messages.tool.ToolMessage'>: The 10th Annual Latin Grammy Awards took place on Thursday, November 5, 2009 , at the Mandalay Bay Events Center in Las Vegas, Nevada. This was the second time the show took place in Las Vegas. Juan Gabriel was honored as the Latin Recording Academy P... Shakira performing \"Don't Bother\" at Rock in Rio in 2008. The Colombian singer Shakira has recorded songs for twelve studio albums , three compilation albums , two live albums and two promotional albums . The album was recorded in Buenos Aires, Argentina, In the first phase, double bass, violin, bandoneon, guitar and piano were recorded, then strings orchestra under the direction of Alejandro Terán.Adrián Sosa . Studio albums . Bajofondo Tango Club. Mar dulce. 1000 Hurts is the third studio album by American rock band Shellac, released on August 8, 2000 . In its official promotional materials Shellac jokingly described this album as follows: \"There are no 12-minute songs on this one. This record is mor... The discography of the post-hardcore band ...And You Will Know Us by the Trail of Dead consists of 11 studio albums , one live album , 22 singles, five EPs and 25 music videos. Albums . Studio albums . Live albums . Extended plays. Split EPs. Singles. Oth...\n",
      "<class 'langchain_core.messages.ai.AIMessage'>: 2\n"
     ]
    }
   ],
   "source": [
    "for m in agent.responses[0].get('messages'):\n",
    "    print(f'{type(m)}: {m.content}')"
   ]
  },
  {
   "cell_type": "code",
   "execution_count": null,
   "id": "7f82cd74",
   "metadata": {},
   "outputs": [
    {
     "name": "stdout",
     "output_type": "stream",
     "text": [
      "========================================\n",
      "Current Node: {'assistant': {'messages': [AIMessage(content='I currently don\\'t have access to live tools like DuckDuckGo or the internet to perform searches. However, I can provide information based on my existing knowledge. Could you clarify if you meant \"Mercedes Sosa,\" the famous Argentine singer? If so, I can help you with her discography details based on my knowledge. Let me know!', additional_kwargs={'refusal': None}, response_metadata={'token_usage': {'completion_tokens': 69, 'prompt_tokens': 42, 'total_tokens': 111, 'completion_tokens_details': {'accepted_prediction_tokens': 0, 'audio_tokens': 0, 'reasoning_tokens': 0, 'rejected_prediction_tokens': 0}, 'prompt_tokens_details': {'audio_tokens': 0, 'cached_tokens': 0}}, 'model_name': 'gpt-4o-2024-11-20', 'system_fingerprint': 'fp_ee1d74bde0', 'id': 'chatcmpl-CFtQQV0iFj7IB32vT0dZP4GQXBCTa', 'service_tier': None, 'prompt_filter_results': [{'prompt_index': 0, 'content_filter_results': {'hate': {'filtered': False, 'severity': 'safe'}, 'jailbreak': {'filtered': False, 'detected': False}, 'self_harm': {'filtered': False, 'severity': 'safe'}, 'sexual': {'filtered': False, 'severity': 'safe'}, 'violence': {'filtered': False, 'severity': 'safe'}}}], 'finish_reason': 'stop', 'logprobs': None, 'content_filter_results': {'hate': {'filtered': False, 'severity': 'safe'}, 'protected_material_code': {'filtered': False, 'detected': False}, 'protected_material_text': {'filtered': False, 'detected': False}, 'self_harm': {'filtered': False, 'severity': 'safe'}, 'sexual': {'filtered': False, 'severity': 'safe'}, 'violence': {'filtered': False, 'severity': 'safe'}}}, id='run--e8e035c3-0fe0-45d3-b628-be9d0446b44b-0', usage_metadata={'input_tokens': 42, 'output_tokens': 69, 'total_tokens': 111, 'input_token_details': {'audio': 0, 'cache_read': 0}, 'output_token_details': {'audio': 0, 'reasoning': 0}})]}}\n"
     ]
    }
   ],
   "source": [
    "message = pl.system_prompt2 + 'How many studio albums were published by Mercedes Sousa between 2000 and 2009 included? use the duckduckgo toll you have available to answer the question'\n",
    "# message = 'How many studio albums were published by Mercedes Sousa between 2000 and 2009 included? use the duckduckgo toll you have available to answer the question'\n",
    "\n",
    "message = \"\"\"\n",
    "use the duckduckgo tool you have available to search wikipedia to respond:\n",
    " How many studio albums were published by Mercedes Sousa between 2000 and 2009 included?\"\n",
    "\n",
    "\"\"\"\n",
    "\n",
    "\n",
    "for step in ma.agent.stream(\n",
    "    {\"messages\": [{\"role\": \"user\", \"content\": message}]}, \n",
    "    config={\"callbacks\": [langfuse_handler]}\n",
    "    ):\n",
    "    print(\"=\"*40)\n",
    "    print(\"Current Node:\", step)"
   ]
  },
  {
   "cell_type": "code",
   "execution_count": 7,
   "id": "0030db17",
   "metadata": {},
   "outputs": [
    {
     "name": "stdout",
     "output_type": "stream",
     "text": [
      "========================================\n",
      "Current Node: {'assistant': {'messages': [AIMessage(content='', additional_kwargs={'tool_calls': [{'id': 'call_f9Sfgby4vg1UrtW8YynmOhWM', 'function': {'arguments': '{\"__arg1\":\"Mercedes Sosa studio albums published between 2000 and 2009\"}', 'name': 'duckduckgo_search'}, 'type': 'function'}], 'refusal': None}, response_metadata={'token_usage': {'completion_tokens': 33, 'prompt_tokens': 241, 'total_tokens': 274, 'completion_tokens_details': {'accepted_prediction_tokens': 0, 'audio_tokens': 0, 'reasoning_tokens': 0, 'rejected_prediction_tokens': 0}, 'prompt_tokens_details': {'audio_tokens': 0, 'cached_tokens': 0}}, 'model_name': 'gpt-4o-2024-11-20', 'system_fingerprint': 'fp_ee1d74bde0', 'id': 'chatcmpl-CFtm4zDyVSV0wDRH7nFVj6iy3TZvi', 'service_tier': None, 'prompt_filter_results': [{'prompt_index': 0, 'content_filter_results': {'hate': {'filtered': False, 'severity': 'safe'}, 'jailbreak': {'filtered': False, 'detected': False}, 'self_harm': {'filtered': False, 'severity': 'safe'}, 'sexual': {'filtered': False, 'severity': 'safe'}, 'violence': {'filtered': False, 'severity': 'safe'}}}], 'finish_reason': 'tool_calls', 'logprobs': None, 'content_filter_results': {}}, id='run--7384da15-be31-40b0-a227-a7ad44f02fd5-0', tool_calls=[{'name': 'duckduckgo_search', 'args': {'__arg1': 'Mercedes Sosa studio albums published between 2000 and 2009'}, 'id': 'call_f9Sfgby4vg1UrtW8YynmOhWM', 'type': 'tool_call'}], usage_metadata={'input_tokens': 241, 'output_tokens': 33, 'total_tokens': 274, 'input_token_details': {'audio': 0, 'cache_read': 0}, 'output_token_details': {'audio': 0, 'reasoning': 0}})]}}\n",
      "========================================\n",
      "Current Node: {'tools': {'messages': [ToolMessage(content='Shakira performing \"Don\\'t Bother\" at Rock in Rio in 2008. The Colombian singer Shakira has recorded songs for twelve studio albums , three compilation albums , two live albums and two promotional albums . A blend of luxury, sportiness & performance. Be it Saloon, Estate, Coupé, Cabriolet, Roadster, SUV & more. Experience the products from Mercedes-Benz. Please submit the information above by clicking \"SEND MESSAGE\" below. Thank you for the information provided. Please visit GTLS to see the C-Program courses available and enrol … Explore the Mercedes-Benz GLE: a luxury SUV offering modern comfort, innovative technology, and dynamic design. Cap, Special Edition George Russell, VINTAGE FIND, Mercedes-AMG F1', name='duckduckgo_search', id='866d2392-5d2d-4510-8c30-64fb41d85ed5', tool_call_id='call_f9Sfgby4vg1UrtW8YynmOhWM')]}}\n",
      "========================================\n",
      "Current Node: {'assistant': {'messages': [AIMessage(content='', additional_kwargs={'tool_calls': [{'id': 'call_iIbkHozCJUs2O4uwuqtjfnkL', 'function': {'arguments': '{\"__arg1\":\"list of Mercedes Sosa studio albums 2000 to 2009\"}', 'name': 'duckduckgo_search'}, 'type': 'function'}], 'refusal': None}, response_metadata={'token_usage': {'completion_tokens': 33, 'prompt_tokens': 435, 'total_tokens': 468, 'completion_tokens_details': {'accepted_prediction_tokens': 0, 'audio_tokens': 0, 'reasoning_tokens': 0, 'rejected_prediction_tokens': 0}, 'prompt_tokens_details': {'audio_tokens': 0, 'cached_tokens': 0}}, 'model_name': 'gpt-4o-2024-11-20', 'system_fingerprint': 'fp_ee1d74bde0', 'id': 'chatcmpl-CFtm7oWPTbseqaMDBT8VvVJrVOj0G', 'service_tier': None, 'prompt_filter_results': [{'prompt_index': 0, 'content_filter_results': {'hate': {'filtered': False, 'severity': 'safe'}, 'jailbreak': {'filtered': False, 'detected': False}, 'self_harm': {'filtered': False, 'severity': 'safe'}, 'sexual': {'filtered': False, 'severity': 'safe'}, 'violence': {'filtered': False, 'severity': 'safe'}}}], 'finish_reason': 'tool_calls', 'logprobs': None, 'content_filter_results': {}}, id='run--67e26704-1656-4deb-889b-10478209523f-0', tool_calls=[{'name': 'duckduckgo_search', 'args': {'__arg1': 'list of Mercedes Sosa studio albums 2000 to 2009'}, 'id': 'call_iIbkHozCJUs2O4uwuqtjfnkL', 'type': 'tool_call'}], usage_metadata={'input_tokens': 435, 'output_tokens': 33, 'total_tokens': 468, 'input_token_details': {'audio': 0, 'cache_read': 0}, 'output_token_details': {'audio': 0, 'reasoning': 0}})]}}\n",
      "========================================\n",
      "Current Node: {'tools': {'messages': [ToolMessage(content=\"Her career spanned four decades and she was the recipient of six Latin Grammy awards ( 2000 , 2003, 2004, 2006, 2009 , 2011), including a Latin Grammy Lifetime Achievement Award in 2004 and two posthumous Latin Grammy Award for Best Folk Album in 2009 and 2011. Full list of Mercedes Sosa albums , sorted by release date. You can also sort the list of albums by most recently added, year recorded (from most recent to first recorded), by views and by album name. Explore Mercedes Sosa ' s biography, discography, and artist credits. Shop rare vinyl records, top albums , and more on Discogs. Apr 29, 2009 · See all of Mercedes Sosa ’ s albums on Genius. Information on Mercedes Sosa . Complete discography , ratings, reviews and more.\", name='duckduckgo_search', id='072c90cf-71d7-4332-93fd-bafd1239a526', tool_call_id='call_iIbkHozCJUs2O4uwuqtjfnkL')]}}\n",
      "========================================\n",
      "Current Node: {'assistant': {'messages': [AIMessage(content='', additional_kwargs={'tool_calls': [{'id': 'call_Pa9Gvj8vwo47ksolMBkVSbX9', 'function': {'arguments': '{\"__arg1\":\"Mercedes Sosa discography\"}', 'name': 'duckduckgo_search'}, 'type': 'function'}], 'refusal': None}, response_metadata={'token_usage': {'completion_tokens': 24, 'prompt_tokens': 658, 'total_tokens': 682, 'completion_tokens_details': {'accepted_prediction_tokens': 0, 'audio_tokens': 0, 'reasoning_tokens': 0, 'rejected_prediction_tokens': 0}, 'prompt_tokens_details': {'audio_tokens': 0, 'cached_tokens': 0}}, 'model_name': 'gpt-4o-2024-11-20', 'system_fingerprint': 'fp_ee1d74bde0', 'id': 'chatcmpl-CFtmBUriykWlacE7pkuorSIKeG8mZ', 'service_tier': None, 'prompt_filter_results': [{'prompt_index': 0, 'content_filter_results': {'hate': {'filtered': False, 'severity': 'safe'}, 'jailbreak': {'filtered': False, 'detected': False}, 'self_harm': {'filtered': False, 'severity': 'safe'}, 'sexual': {'filtered': False, 'severity': 'safe'}, 'violence': {'filtered': False, 'severity': 'safe'}}}], 'finish_reason': 'tool_calls', 'logprobs': None, 'content_filter_results': {}}, id='run--f823a193-a60f-4fb0-bd06-e226dd419899-0', tool_calls=[{'name': 'duckduckgo_search', 'args': {'__arg1': 'Mercedes Sosa discography'}, 'id': 'call_Pa9Gvj8vwo47ksolMBkVSbX9', 'type': 'tool_call'}], usage_metadata={'input_tokens': 658, 'output_tokens': 24, 'total_tokens': 682, 'input_token_details': {'audio': 0, 'cache_read': 0}, 'output_token_details': {'audio': 0, 'reasoning': 0}})]}}\n",
      "========================================\n",
      "Current Node: {'tools': {'messages': [ToolMessage(content='Throughout the decade, she released albums such as Hasta la Victoria in 1972 and Traigo un Pueblo en mi Voz in 1973. Mercedes Sosa ... MERCEDES SOSA Corazón Libre ... Start / Artists / Mercedes Sosa / Discography / Mercedes Sosa y Horacio Guarany (single 1973) ... Home View Book Life & Career Politics Discography Discoveries Author Foundation Press Lieder und Episoden aus Mercedes Sosa - Die Stimme der Hoffnung (chronologisch) ... Startseite Das Buch Leben & Karriere Politik Discographie ... Mercedes Sosa y Horacio Guarany (single 1973) ... Şarkılar ve Bölümler, Mercedes Sosa -Umudun Sesinden( kronolojik)', name='duckduckgo_search', id='dcb0c53f-798b-4c38-8af8-a5cba66be5e6', tool_call_id='call_Pa9Gvj8vwo47ksolMBkVSbX9')]}}\n",
      "========================================\n",
      "Current Node: {'assistant': {'messages': [AIMessage(content='Cantora 1, Cantora 2, Corazón Libre', additional_kwargs={'refusal': None}, response_metadata={'token_usage': {'completion_tokens': 15, 'prompt_tokens': 841, 'total_tokens': 856, 'completion_tokens_details': {'accepted_prediction_tokens': 0, 'audio_tokens': 0, 'reasoning_tokens': 0, 'rejected_prediction_tokens': 0}, 'prompt_tokens_details': {'audio_tokens': 0, 'cached_tokens': 0}}, 'model_name': 'gpt-4o-2024-11-20', 'system_fingerprint': 'fp_ee1d74bde0', 'id': 'chatcmpl-CFtmHkRhyIq45cFhKc33aP6oNcJKN', 'service_tier': None, 'prompt_filter_results': [{'prompt_index': 0, 'content_filter_results': {'hate': {'filtered': False, 'severity': 'safe'}, 'jailbreak': {'filtered': False, 'detected': False}, 'self_harm': {'filtered': False, 'severity': 'safe'}, 'sexual': {'filtered': False, 'severity': 'safe'}, 'violence': {'filtered': False, 'severity': 'safe'}}}], 'finish_reason': 'stop', 'logprobs': None, 'content_filter_results': {'hate': {'filtered': False, 'severity': 'safe'}, 'protected_material_code': {'filtered': False, 'detected': False}, 'protected_material_text': {'filtered': False, 'detected': False}, 'self_harm': {'filtered': False, 'severity': 'safe'}, 'sexual': {'filtered': False, 'severity': 'safe'}, 'violence': {'filtered': False, 'severity': 'safe'}}}, id='run--e0b0be3a-98c4-4a6a-8b8f-9e83a937ede2-0', usage_metadata={'input_tokens': 841, 'output_tokens': 15, 'total_tokens': 856, 'input_token_details': {'audio': 0, 'cache_read': 0}, 'output_token_details': {'audio': 0, 'reasoning': 0}})]}}\n"
     ]
    }
   ],
   "source": [
    "message = \"\"\"\n",
    "use the duckduckgo tool you have available to search wikipedia to respond:\n",
    " How many studio albums were published by Mercedes Sousa between 2000 and 2009 included?\"\n",
    "\n",
    "\"\"\"\n",
    "\n",
    "message = pl.system_prompt2 + 'How many studio albums were published by Mercedes Sousa between 2000 and 2009 included? use the duckduckgo tool you have available to answer the question'\n",
    "\n",
    "\n",
    "for step in ma.agent.stream(\n",
    "    {\"messages\": [{\"role\": \"user\", \"content\": message}]},\n",
    "    config={\"callbacks\": [langfuse_handler]}\n",
    "    ):\n",
    "    print(\"=\"*40)\n",
    "    print(\"Current Node:\", step)"
   ]
  },
  {
   "cell_type": "code",
   "execution_count": null,
   "id": "d57e9368",
   "metadata": {},
   "outputs": [],
   "source": []
  }
 ],
 "metadata": {
  "kernelspec": {
   "display_name": ".venv (3.13.6)",
   "language": "python",
   "name": "python3"
  },
  "language_info": {
   "codemirror_mode": {
    "name": "ipython",
    "version": 3
   },
   "file_extension": ".py",
   "mimetype": "text/x-python",
   "name": "python",
   "nbconvert_exporter": "python",
   "pygments_lexer": "ipython3",
   "version": "3.13.6"
  }
 },
 "nbformat": 4,
 "nbformat_minor": 5
}
