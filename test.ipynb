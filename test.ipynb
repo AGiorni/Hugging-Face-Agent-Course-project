{
 "cells": [
  {
   "cell_type": "code",
   "execution_count": 1,
   "id": "3f7d8cca",
   "metadata": {},
   "outputs": [],
   "source": [
    "%load_ext autoreload\n",
    "\n",
    "%autoreload 2"
   ]
  },
  {
   "cell_type": "code",
   "execution_count": 18,
   "id": "bbd5b78b",
   "metadata": {},
   "outputs": [],
   "source": [
    "import main_agent as ma\n",
    "import prompts_lib as pl\n"
   ]
  },
  {
   "cell_type": "code",
   "execution_count": 12,
   "id": "76d480cd",
   "metadata": {},
   "outputs": [],
   "source": [
    "message = pl.system_prompt2 + 'what is the capital of france'"
   ]
  },
  {
   "cell_type": "code",
   "execution_count": 13,
   "id": "62435d86",
   "metadata": {},
   "outputs": [],
   "source": [
    "response = ma.graph.invoke({'messages': message})"
   ]
  },
  {
   "cell_type": "code",
   "execution_count": 14,
   "id": "1ad3fa57",
   "metadata": {},
   "outputs": [
    {
     "data": {
      "text/plain": [
       "'Paris'"
      ]
     },
     "execution_count": 14,
     "metadata": {},
     "output_type": "execute_result"
    }
   ],
   "source": [
    "response.get('messages')[1].content"
   ]
  },
  {
   "cell_type": "code",
   "execution_count": 28,
   "id": "e097a098",
   "metadata": {},
   "outputs": [],
   "source": [
    "class BasicAgent:\n",
    "    def __init__(self):\n",
    "        pass\n",
    "    def __call__(self, question: str) -> str:\n",
    "        print(f\"Agent received question (first 50 chars): {question[:50]}...\")\n",
    "\n",
    "        message = pl.system_prompt2 + question\n",
    "\n",
    "        response = ma.agent.invoke({'messages': message})\n",
    "\n",
    "        answer = response.get('messages')[1].content\n",
    "\n",
    "        # fixed_answer = \"This is a default answer.\"\n",
    "        print(f\"Agent returning answer: {answer}\")\n",
    "        return answer"
   ]
  },
  {
   "cell_type": "code",
   "execution_count": 29,
   "id": "af68a6a5",
   "metadata": {},
   "outputs": [],
   "source": [
    "agent = BasicAgent()"
   ]
  },
  {
   "cell_type": "code",
   "execution_count": 30,
   "id": "02c87f0c",
   "metadata": {},
   "outputs": [
    {
     "name": "stdout",
     "output_type": "stream",
     "text": [
      "Agent received question (first 50 chars): What is the capital of Italy?...\n",
      "Agent returning answer: Rome\n"
     ]
    }
   ],
   "source": [
    "answer = agent(\"What is the capital of Italy?\")"
   ]
  },
  {
   "cell_type": "code",
   "execution_count": null,
   "id": "7f82cd74",
   "metadata": {},
   "outputs": [],
   "source": []
  }
 ],
 "metadata": {
  "kernelspec": {
   "display_name": ".venv (3.13.6)",
   "language": "python",
   "name": "python3"
  },
  "language_info": {
   "codemirror_mode": {
    "name": "ipython",
    "version": 3
   },
   "file_extension": ".py",
   "mimetype": "text/x-python",
   "name": "python",
   "nbconvert_exporter": "python",
   "pygments_lexer": "ipython3",
   "version": "3.13.6"
  }
 },
 "nbformat": 4,
 "nbformat_minor": 5
}
