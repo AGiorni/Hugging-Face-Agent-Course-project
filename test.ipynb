{
 "cells": [
  {
   "cell_type": "code",
   "execution_count": 1,
   "id": "3f7d8cca",
   "metadata": {},
   "outputs": [],
   "source": [
    "%load_ext autoreload\n",
    "\n",
    "%autoreload 2"
   ]
  },
  {
   "cell_type": "code",
   "execution_count": 30,
   "id": "fc82f9e4",
   "metadata": {},
   "outputs": [],
   "source": [
    "import textwrap\n",
    "\n",
    "def print_(message: str):\n",
    "\n",
    "    print(textwrap.fill(message, 75))"
   ]
  },
  {
   "cell_type": "code",
   "execution_count": 24,
   "id": "bbd5b78b",
   "metadata": {},
   "outputs": [],
   "source": [
    "import main_agent as ma\n",
    "import prompts_lib as pl\n"
   ]
  },
  {
   "cell_type": "code",
   "execution_count": 25,
   "id": "9d00e0ae",
   "metadata": {},
   "outputs": [],
   "source": [
    "from langfuse import Langfuse\n",
    "from langfuse.langchain import CallbackHandler\n",
    "\n",
    "langfuse = Langfuse(\n",
    "    public_key=\"pk-lf-61f55889-2dd2-47a1-ab49-99c60b7ddb40\",\n",
    "    secret_key=\"sk-lf-632ab357-d225-421f-9f75-7f6685960c50\",\n",
    "    host=\"https://cloud.langfuse.com\"\n",
    ")\n",
    "\n",
    "langfuse_handler = CallbackHandler()"
   ]
  },
  {
   "cell_type": "code",
   "execution_count": 26,
   "id": "e097a098",
   "metadata": {},
   "outputs": [],
   "source": [
    "logfuse = False\n",
    "\n",
    "class BasicAgent:\n",
    "    def __init__(self):\n",
    "        self.agent = ma.agent\n",
    "        self.responses = []\n",
    "    def __call__(self, question: str) -> str:\n",
    "        print(f\"Agent received question (first 50 chars): {question[:50]}...\")\n",
    "\n",
    "        # message = pl.system_prompt2 + question\n",
    "        if logfuse:\n",
    "            response = self.agent.invoke(\n",
    "                input={'messages': question},\n",
    "                config={\"callbacks\": [langfuse_handler]}\n",
    "                )\n",
    "        else:\n",
    "            response = self.agent.invoke(input={'messages': question})\n",
    "        \n",
    "        self.responses.append(response)\n",
    "\n",
    "\n",
    "        answer = response.get('messages')[-1].content\n",
    "\n",
    "        # fixed_answer = \"This is a default answer.\"\n",
    "        print(f\"Agent returning answer: {answer}\")\n",
    "        return answer"
   ]
  },
  {
   "cell_type": "code",
   "execution_count": 27,
   "id": "af68a6a5",
   "metadata": {},
   "outputs": [],
   "source": [
    "agent = BasicAgent()"
   ]
  },
  {
   "cell_type": "code",
   "execution_count": 34,
   "id": "02c87f0c",
   "metadata": {},
   "outputs": [
    {
     "name": "stdout",
     "output_type": "stream",
     "text": [
      "Agent received question (first 50 chars): \n",
      "How many studio albums were published by Mercedes...\n",
      "Agent returning answer: Cantora 1, Cantora 2.\n"
     ]
    }
   ],
   "source": [
    "question = \"\"\"\n",
    "How many studio albums were published by Mercedes Sousa between 2000 and 2009 included?\n",
    " use duckduckgo tool you have available to search wikipedia to respond\n",
    "\"\"\"\n",
    "\n",
    "question = \"\"\"\n",
    "How many studio albums were published by Mercedes Sousa between 2000 and 2009 included?\n",
    "you can use the latest 2022 version of the english wikipedia\n",
    "\"\"\"\n",
    "\n",
    "answer = agent(question)"
   ]
  },
  {
   "cell_type": "code",
   "execution_count": null,
   "id": "0bc839a3",
   "metadata": {},
   "outputs": [
    {
     "data": {
      "text/plain": [
       "ToolMessage(content='In the early 1970s, Sosa released two concept albums in collaboration with composer Ariel Ramírez and lyricist Félix Luna: Cantata Sudamericana and Mujeres Argentinas (Argentine Women). She also recorded a tribute to Chilean musician Violeta Parra in 1971, including what was to become one of Sosa\\'s signature songs, Gracias a la vida. She further popularized of songs written by Milton Nascimento of Brazil and Pablo Milanés and Silvio Rodríguez both from Cuba. Throughout the decade, she released albums such as Hasta la Victoria in 1972 and Traigo un Pueblo en mi Voz in 1973. They featured songs like \"Cuando tenga la tierra\", written by Ariel Petrocelli and Daniel Toro, which tackles political and social issues like wealth and land inequality. During the 1970s she was a part of two films by the director Leopoldo Torre Nilsson: El Santo de la Espada in 1970 and Güemes, la tierra en armas in 1971, in which she portrayed Juana Azurduy de Padilla, the guerrilla military leader who fought for\\nThe double album was a commercial success, being certified platinum by the CAPIF selling more than 200,000 copies in Argentina, Cantora 1 was also certified platinum selling 40,000 copies while Cantora 2 was certified gold selling 20,000 copies. The album also peaked at numbers 22 and 8 at the Top Latin Albums and Latin Pop Albums charts in United States, respectively, being Sosa\\'s only appearances on both charts.\\nAt documentary film titled Mercedes Sosa, Cantora un viaje íntimo was released on 2009, it was directed by Rodrigo Vila and features the recording process of the album as well as testimonies from the different guest artists that appeared on the project.\\nHaydée Mercedes Sosa (9 July 1935 – 4 October 2009) was an Argentine singer who was popular throughout Latin America and many countries outside the region. With her roots in Argentine folk music, Sosa became one of the preeminent exponents of El nuevo cancionero. She gave voice to songs written by many Latin American songwriters. Her music made people hail her as the \"voice of the voiceless ones\". She was often called \"the conscience of Latin America\".\\nCantora, un Viaje Íntimo  (English: Cantora, An Intimate Journey) is a double album by Argentine singer Mercedes Sosa, released on 2009 through Sony Music Argentina. The album features Cantora 1 and Cantora 2, the project is Sosa\\'s final album before her death on October 4, 2009.\\nAt the 10th Annual Latin Grammy Awards, Cantora 1 was nominated for Album of the Year and won Best Folk Album and Best Recording Package, the latter award went to Alejandro Ros, the art director of the album. Additionally, Sosa won two out of five nominations for the albums at the Gardel Awards 2010, the double album was nominated for Album of the Year and Production of the Year and won Best DVD while both Cantora 1 and Cantora 2 were nominated for Best Female Folk Album, with the former winning the category.\\npublic. Sosa and her first husband, Manuel Oscar Matus, with whom she had one son, were key players in the mid-60s nueva canción movement (which was called nuevo cancionero in Argentina). Her second record was Canciones con Fundamento, a collection of Argentine folk songs.\\n== Background ==\\nThe albums were produced by Popi Spatocco, frequent collaborator of Sosa, engineered by Jorge \"Portugués\" Da Silva and recorded from May 2008 to June 2009 at Estudios Panda and Estudios Ion, both in Buenos Aires, Argentina, the first session took place at Estudios Panda while the rest of the album was recorded at Estudios Ion, the first songs to be recorded were \"Agua, Fuego, Tierra y Viento\" with Argentine singer Soledad Pastorutti and \"Misionera\" with Brazilian accordionist Luiz Carlos Borges, the recording of the album was marked by interruptions due to the delicate health condition of Sosa, she would eventually die on October 16, 2009 at age 74, a couple of months following the release of the albums, about Cantora, Spatocco said that \"it was like receiving a diploma of honor, she was dedicated to whatever happened because she knew that I had her back\".\\nSosa \"spent the late 1960s building her audience in Europe and among the cosmopolitan middle class in Buenos Aires, becoming in the process a much bigger star\" than her contemporaries. In 1967, Sosa toured the United States and Europe with great success. In later years, she performed and recorded extensively, broadening her repertoire to include material from throughout Latin America.\\nSosa was born on 9 July 1935, in San Miguel de Tucumán, in the northwestern Argentine province of Tucumán, of mestizo ancestry. She was of French, Spanish and Diaguita descent. Her nickname \"la negra\", which is a common nickname in Argentina for people with darker complexion, is a reference to her indigenous heritage. Her parents, a day laborer and a washerwoman, were Peronists, although they never registered in the party, and she started her career as a singer for the Peronist Party in Tucuman under the name Gladys Osorio. In 1950, at age fifteen, she won a singing competition organized by a local radio station and was given a contract to perform for two months. She recorded her first album, La Voz de la Zafra, in 1959. A performance at the 1965 Cosquín National Folklore Festival—where she was introduced and brought to the stage while sitting in the audience by fellow folk singer Jorge Cafrune— brought her to the attention of the Argentine public. Sosa and her first husband, Manuel', name='wikipedia_search_RAG', id='1b470c1c-7195-418f-85a2-543f6b84e3f4', tool_call_id='call_IDMJMtIXcwRBnCzoPPukPTpK')"
      ]
     },
     "execution_count": 33,
     "metadata": {},
     "output_type": "execute_result"
    }
   ],
   "source": []
  },
  {
   "cell_type": "code",
   "execution_count": 35,
   "id": "069db350",
   "metadata": {},
   "outputs": [
    {
     "name": "stdout",
     "output_type": "stream",
     "text": [
      "<class 'langchain_core.messages.human.HumanMessage'>:  How many studio\n",
      "albums were published by Mercedes Sousa between 2000 and 2009 included? you\n",
      "can use the latest 2022 version of the english wikipedia\n",
      "<class 'langchain_core.messages.ai.AIMessage'>:\n",
      "<class 'langchain_core.messages.tool.ToolMessage'>: In the early 1970s,\n",
      "Sosa released two concept albums in collaboration with composer Ariel\n",
      "Ramírez and lyricist Félix Luna: Cantata Sudamericana and Mujeres\n",
      "Argentinas (Argentine Women). She also recorded a tribute to Chilean\n",
      "musician Violeta Parra in 1971, including what was to become one of Sosa's\n",
      "signature songs, Gracias a la vida. She further popularized of songs\n",
      "written by Milton Nascimento of Brazil and Pablo Milanés and Silvio\n",
      "Rodríguez both from Cuba. Throughout the decade, she released albums such\n",
      "as Hasta la Victoria in 1972 and Traigo un Pueblo en mi Voz in 1973. They\n",
      "featured songs like \"Cuando tenga la tierra\", written by Ariel Petrocelli\n",
      "and Daniel Toro, which tackles political and social issues like wealth and\n",
      "land inequality. During the 1970s she was a part of two films by the\n",
      "director Leopoldo Torre Nilsson: El Santo de la Espada in 1970 and Güemes,\n",
      "la tierra en armas in 1971, in which she portrayed Juana Azurduy de\n",
      "Padilla, the guerrilla military leader who fought for In the early 1970s,\n",
      "Sosa released two concept albums in collaboration with composer Ariel\n",
      "Ramírez and lyricist Félix Luna: Cantata Sudamericana and Mujeres\n",
      "Argentinas (Argentine Women). She also recorded a tribute to Chilean\n",
      "musician Violeta Parra in 1971, including what was to become one of Sosa's\n",
      "signature songs, Gracias a la vida. She further popularized of songs\n",
      "written by Milton Nascimento of Brazil and Pablo Milanés and Silvio\n",
      "Rodríguez both from Cuba. Throughout the decade, she released albums such\n",
      "as Hasta la Victoria in 1972 and Traigo un Pueblo en mi Voz in 1973. They\n",
      "featured songs like \"Cuando tenga la tierra\", written by Ariel Petrocelli\n",
      "and Daniel Toro, which tackles political and social issues like wealth and\n",
      "land inequality. During the 1970s she was a part of two films by the\n",
      "director Leopoldo Torre Nilsson: El Santo de la Espada in 1970 and Güemes,\n",
      "la tierra en armas in 1971, in which she portrayed Juana Azurduy de\n",
      "Padilla, the guerrilla military leader who fought for The double album was\n",
      "a commercial success, being certified platinum by the CAPIF selling more\n",
      "than 200,000 copies in Argentina, Cantora 1 was also certified platinum\n",
      "selling 40,000 copies while Cantora 2 was certified gold selling 20,000\n",
      "copies. The album also peaked at numbers 22 and 8 at the Top Latin Albums\n",
      "and Latin Pop Albums charts in United States, respectively, being Sosa's\n",
      "only appearances on both charts. At documentary film titled Mercedes Sosa,\n",
      "Cantora un viaje íntimo was released on 2009, it was directed by Rodrigo\n",
      "Vila and features the recording process of the album as well as testimonies\n",
      "from the different guest artists that appeared on the project. The double\n",
      "album was a commercial success, being certified platinum by the CAPIF\n",
      "selling more than 200,000 copies in Argentina, Cantora 1 was also certified\n",
      "platinum selling 40,000 copies while Cantora 2 was certified gold selling\n",
      "20,000 copies. The album also peaked at numbers 22 and 8 at the Top Latin\n",
      "Albums and Latin Pop Albums charts in United States, respectively, being\n",
      "Sosa's only appearances on both charts. At documentary film titled Mercedes\n",
      "Sosa, Cantora un viaje íntimo was released on 2009, it was directed by\n",
      "Rodrigo Vila and features the recording process of the album as well as\n",
      "testimonies from the different guest artists that appeared on the project.\n",
      "Haydée Mercedes Sosa (9 July 1935 – 4 October 2009) was an Argentine singer\n",
      "who was popular throughout Latin America and many countries outside the\n",
      "region. With her roots in Argentine folk music, Sosa became one of the\n",
      "preeminent exponents of El nuevo cancionero. She gave voice to songs\n",
      "written by many Latin American songwriters. Her music made people hail her\n",
      "as the \"voice of the voiceless ones\". She was often called \"the conscience\n",
      "of Latin America\". Haydée Mercedes Sosa (9 July 1935 – 4 October 2009) was\n",
      "an Argentine singer who was popular throughout Latin America and many\n",
      "countries outside the region. With her roots in Argentine folk music, Sosa\n",
      "became one of the preeminent exponents of El nuevo cancionero. She gave\n",
      "voice to songs written by many Latin American songwriters. Her music made\n",
      "people hail her as the \"voice of the voiceless ones\". She was often called\n",
      "\"the conscience of Latin America\". Cantora, un Viaje Íntimo  (English:\n",
      "Cantora, An Intimate Journey) is a double album by Argentine singer\n",
      "Mercedes Sosa, released on 2009 through Sony Music Argentina. The album\n",
      "features Cantora 1 and Cantora 2, the project is Sosa's final album before\n",
      "her death on October 4, 2009. At the 10th Annual Latin Grammy Awards,\n",
      "Cantora 1 was nominated for Album of the Year and won Best Folk Album and\n",
      "Best Recording Package, the latter award went to Alejandro Ros, the art\n",
      "director of the album. Additionally, Sosa won two out of five nominations\n",
      "for the albums at the Gardel Awards 2010, the double album was nominated\n",
      "for Album of the Year and Production of the Year and won Best DVD while\n",
      "both Cantora 1 and Cantora 2 were nominated for Best Female Folk Album,\n",
      "with the former winning the category. Cantora, un Viaje Íntimo  (English:\n",
      "Cantora, An Intimate Journey) is a double album by Argentine singer\n",
      "Mercedes Sosa, released on 2009 through Sony Music Argentina. The album\n",
      "features Cantora 1 and Cantora 2, the project is Sosa's final album before\n",
      "her death on October 4, 2009. At the 10th Annual Latin Grammy Awards,\n",
      "Cantora 1 was nominated for Album of the Year and won Best Folk Album and\n",
      "Best Recording Package, the latter award went to Alejandro Ros, the art\n",
      "director of the album. Additionally, Sosa won two out of five nominations\n",
      "for the albums at the Gardel Awards 2010, the double album was nominated\n",
      "for Album of the Year and Production of the Year and won Best DVD while\n",
      "both Cantora 1 and Cantora 2 were nominated for Best Female Folk Album,\n",
      "with the former winning the category.\n",
      "<class 'langchain_core.messages.ai.AIMessage'>: Cantora 1, Cantora 2.\n"
     ]
    }
   ],
   "source": [
    "for m in agent.responses[-1].get('messages'):\n",
    "    print_(f'{type(m)}: {m.content}')"
   ]
  },
  {
   "cell_type": "code",
   "execution_count": null,
   "id": "7f82cd74",
   "metadata": {},
   "outputs": [
    {
     "name": "stdout",
     "output_type": "stream",
     "text": [
      "========================================\n",
      "Current Node: {'assistant': {'messages': [AIMessage(content='I currently don\\'t have access to live tools like DuckDuckGo or the internet to perform searches. However, I can provide information based on my existing knowledge. Could you clarify if you meant \"Mercedes Sosa,\" the famous Argentine singer? If so, I can help you with her discography details based on my knowledge. Let me know!', additional_kwargs={'refusal': None}, response_metadata={'token_usage': {'completion_tokens': 69, 'prompt_tokens': 42, 'total_tokens': 111, 'completion_tokens_details': {'accepted_prediction_tokens': 0, 'audio_tokens': 0, 'reasoning_tokens': 0, 'rejected_prediction_tokens': 0}, 'prompt_tokens_details': {'audio_tokens': 0, 'cached_tokens': 0}}, 'model_name': 'gpt-4o-2024-11-20', 'system_fingerprint': 'fp_ee1d74bde0', 'id': 'chatcmpl-CFtQQV0iFj7IB32vT0dZP4GQXBCTa', 'service_tier': None, 'prompt_filter_results': [{'prompt_index': 0, 'content_filter_results': {'hate': {'filtered': False, 'severity': 'safe'}, 'jailbreak': {'filtered': False, 'detected': False}, 'self_harm': {'filtered': False, 'severity': 'safe'}, 'sexual': {'filtered': False, 'severity': 'safe'}, 'violence': {'filtered': False, 'severity': 'safe'}}}], 'finish_reason': 'stop', 'logprobs': None, 'content_filter_results': {'hate': {'filtered': False, 'severity': 'safe'}, 'protected_material_code': {'filtered': False, 'detected': False}, 'protected_material_text': {'filtered': False, 'detected': False}, 'self_harm': {'filtered': False, 'severity': 'safe'}, 'sexual': {'filtered': False, 'severity': 'safe'}, 'violence': {'filtered': False, 'severity': 'safe'}}}, id='run--e8e035c3-0fe0-45d3-b628-be9d0446b44b-0', usage_metadata={'input_tokens': 42, 'output_tokens': 69, 'total_tokens': 111, 'input_token_details': {'audio': 0, 'cache_read': 0}, 'output_token_details': {'audio': 0, 'reasoning': 0}})]}}\n"
     ]
    }
   ],
   "source": [
    "message = pl.system_prompt2 + 'How many studio albums were published by Mercedes Sousa between 2000 and 2009 included? use the duckduckgo toll you have available to answer the question'\n",
    "# message = 'How many studio albums were published by Mercedes Sousa between 2000 and 2009 included? use the duckduckgo toll you have available to answer the question'\n",
    "\n",
    "message = \"\"\"\n",
    "use the duckduckgo tool you have available to search wikipedia to respond:\n",
    " How many studio albums were published by Mercedes Sousa between 2000 and 2009 included?\"\n",
    "\n",
    "\"\"\"\n",
    "\n",
    "\n",
    "for step in ma.agent.stream(\n",
    "    {\"messages\": [{\"role\": \"user\", \"content\": message}]}, \n",
    "    config={\"callbacks\": [langfuse_handler]}\n",
    "    ):\n",
    "    print(\"=\"*40)\n",
    "    print(\"Current Node:\", step)"
   ]
  },
  {
   "cell_type": "code",
   "execution_count": null,
   "id": "d57e9368",
   "metadata": {},
   "outputs": [],
   "source": [
    "user_input=\"Hi there!, My name is subitha, I am a software engineer. Can you tell me about the latest research on quantum computing?\"\n",
    "\n",
    "events=graph.stream(\n",
    "     {\"messages\": [(\"user\", user_input)]},stream_mode=\"values\"\n",
    ")\n",
    "\n",
    "for event in events:\n",
    "  event[\"messages\"][-1].pretty_print()"
   ]
  }
 ],
 "metadata": {
  "kernelspec": {
   "display_name": ".venv (3.13.6)",
   "language": "python",
   "name": "python3"
  },
  "language_info": {
   "codemirror_mode": {
    "name": "ipython",
    "version": 3
   },
   "file_extension": ".py",
   "mimetype": "text/x-python",
   "name": "python",
   "nbconvert_exporter": "python",
   "pygments_lexer": "ipython3",
   "version": "3.13.6"
  }
 },
 "nbformat": 4,
 "nbformat_minor": 5
}
