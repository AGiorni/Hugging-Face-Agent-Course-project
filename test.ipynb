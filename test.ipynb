{
 "cells": [
  {
   "cell_type": "code",
   "execution_count": 1,
   "id": "3f7d8cca",
   "metadata": {},
   "outputs": [],
   "source": [
    "%load_ext autoreload\n",
    "\n",
    "%autoreload 2"
   ]
  },
  {
   "cell_type": "code",
   "execution_count": 2,
   "id": "bbd5b78b",
   "metadata": {},
   "outputs": [],
   "source": [
    "import main_agent as ma\n",
    "import prompts_lib as pl\n"
   ]
  },
  {
   "cell_type": "code",
   "execution_count": null,
   "id": "9d00e0ae",
   "metadata": {},
   "outputs": [],
   "source": [
    "from langfuse import Langfuse\n",
    "from langfuse.langchain import CallbackHandler\n",
    "\n",
    "langfuse = Langfuse(\n",
    "    public_key=\"pk-lf-61f55889-2dd2-47a1-ab49-99c60b7ddb40\",\n",
    "    secret_key=\"sk-lf-632ab357-d225-421f-9f75-7f6685960c50\",\n",
    "    host=\"https://cloud.langfuse.com\"\n",
    ")\n",
    "\n",
    "langfuse_handler = CallbackHandler()"
   ]
  },
  {
   "cell_type": "code",
   "execution_count": null,
   "id": "e097a098",
   "metadata": {},
   "outputs": [],
   "source": [
    "logfuse = False\n",
    "\n",
    "class BasicAgent:\n",
    "    def __init__(self):\n",
    "        self.agent = ma.agent\n",
    "        self.responses = []\n",
    "    def __call__(self, question: str) -> str:\n",
    "        print(f\"Agent received question (first 50 chars): {question[:50]}...\")\n",
    "\n",
    "        # message = pl.system_prompt2 + question\n",
    "        if logfuse:\n",
    "            response = self.agent.invoke(\n",
    "                input={'messages': question},\n",
    "                config={\"callbacks\": [langfuse_handler]}\n",
    "                )\n",
    "        else:\n",
    "            response = self.agent.invoke(input={'messages': question})\n",
    "        \n",
    "        self.responses.append(response)\n",
    "\n",
    "\n",
    "        answer = response.get('messages')[-1].content\n",
    "\n",
    "        # fixed_answer = \"This is a default answer.\"\n",
    "        print(f\"Agent returning answer: {answer}\")\n",
    "        return answer"
   ]
  },
  {
   "cell_type": "code",
   "execution_count": 12,
   "id": "af68a6a5",
   "metadata": {},
   "outputs": [],
   "source": [
    "agent = BasicAgent()"
   ]
  },
  {
   "cell_type": "code",
   "execution_count": 13,
   "id": "02c87f0c",
   "metadata": {},
   "outputs": [
    {
     "name": "stdout",
     "output_type": "stream",
     "text": [
      "Agent received question (first 50 chars): \n",
      "How many studio albums were published by Mercedes...\n",
      "Agent returning answer: \n"
     ]
    }
   ],
   "source": [
    "question = \"\"\"\n",
    "How many studio albums were published by Mercedes Sousa between 2000 and 2009 included?\n",
    " use duckduckgo tool you have available to search wikipedia to respond\n",
    "\"\"\"\n",
    "\n",
    "question = \"\"\"\n",
    "How many studio albums were published by Mercedes Sousa between 2000 and 2009 included?\n",
    "you can use the latest 2022 version of the english wikipedia\n",
    "\"\"\"\n",
    "\n",
    "answer = agent(question)"
   ]
  },
  {
   "cell_type": "code",
   "execution_count": null,
   "id": "069db350",
   "metadata": {},
   "outputs": [
    {
     "name": "stdout",
     "output_type": "stream",
     "text": [
      "<class 'langchain_core.messages.human.HumanMessage'>: \n",
      "How many studio albums were published by Mercedes Sousa between 2000 and 2009 included?\n",
      "you can use the latest 2022 version of the english wikipedia\n",
      "\n",
      "<class 'langchain_core.messages.ai.AIMessage'>: \n",
      "<class 'langchain_core.messages.tool.ToolMessage'>: The 10th Annual Latin Grammy Awards took place on Thursday, November 5, 2009 , at the Mandalay Bay Events Center in Las Vegas, Nevada. This was the second time the show took place in Las Vegas. Juan Gabriel was honored as the Latin Recording Academy P... Shakira performing \"Don't Bother\" at Rock in Rio in 2008. The Colombian singer Shakira has recorded songs for twelve studio albums , three compilation albums , two live albums and two promotional albums . The album was recorded in Buenos Aires, Argentina, In the first phase, double bass, violin, bandoneon, guitar and piano were recorded, then strings orchestra under the direction of Alejandro Terán.Adrián Sosa . Studio albums . Bajofondo Tango Club. Mar dulce. 1000 Hurts is the third studio album by American rock band Shellac, released on August 8, 2000 . In its official promotional materials Shellac jokingly described this album as follows: \"There are no 12-minute songs on this one. This record is mor... The discography of the post-hardcore band ...And You Will Know Us by the Trail of Dead consists of 11 studio albums , one live album , 22 singles, five EPs and 25 music videos. Albums . Studio albums . Live albums . Extended plays. Split EPs. Singles. Oth...\n",
      "<class 'langchain_core.messages.ai.AIMessage'>: 2\n"
     ]
    }
   ],
   "source": [
    "for m in agent.responses[-1].get('messages'):\n",
    "    print(f'{type(m)}: {m.content}')"
   ]
  },
  {
   "cell_type": "code",
   "execution_count": null,
   "id": "7f82cd74",
   "metadata": {},
   "outputs": [
    {
     "name": "stdout",
     "output_type": "stream",
     "text": [
      "========================================\n",
      "Current Node: {'assistant': {'messages': [AIMessage(content='I currently don\\'t have access to live tools like DuckDuckGo or the internet to perform searches. However, I can provide information based on my existing knowledge. Could you clarify if you meant \"Mercedes Sosa,\" the famous Argentine singer? If so, I can help you with her discography details based on my knowledge. Let me know!', additional_kwargs={'refusal': None}, response_metadata={'token_usage': {'completion_tokens': 69, 'prompt_tokens': 42, 'total_tokens': 111, 'completion_tokens_details': {'accepted_prediction_tokens': 0, 'audio_tokens': 0, 'reasoning_tokens': 0, 'rejected_prediction_tokens': 0}, 'prompt_tokens_details': {'audio_tokens': 0, 'cached_tokens': 0}}, 'model_name': 'gpt-4o-2024-11-20', 'system_fingerprint': 'fp_ee1d74bde0', 'id': 'chatcmpl-CFtQQV0iFj7IB32vT0dZP4GQXBCTa', 'service_tier': None, 'prompt_filter_results': [{'prompt_index': 0, 'content_filter_results': {'hate': {'filtered': False, 'severity': 'safe'}, 'jailbreak': {'filtered': False, 'detected': False}, 'self_harm': {'filtered': False, 'severity': 'safe'}, 'sexual': {'filtered': False, 'severity': 'safe'}, 'violence': {'filtered': False, 'severity': 'safe'}}}], 'finish_reason': 'stop', 'logprobs': None, 'content_filter_results': {'hate': {'filtered': False, 'severity': 'safe'}, 'protected_material_code': {'filtered': False, 'detected': False}, 'protected_material_text': {'filtered': False, 'detected': False}, 'self_harm': {'filtered': False, 'severity': 'safe'}, 'sexual': {'filtered': False, 'severity': 'safe'}, 'violence': {'filtered': False, 'severity': 'safe'}}}, id='run--e8e035c3-0fe0-45d3-b628-be9d0446b44b-0', usage_metadata={'input_tokens': 42, 'output_tokens': 69, 'total_tokens': 111, 'input_token_details': {'audio': 0, 'cache_read': 0}, 'output_token_details': {'audio': 0, 'reasoning': 0}})]}}\n"
     ]
    }
   ],
   "source": [
    "message = pl.system_prompt2 + 'How many studio albums were published by Mercedes Sousa between 2000 and 2009 included? use the duckduckgo toll you have available to answer the question'\n",
    "# message = 'How many studio albums were published by Mercedes Sousa between 2000 and 2009 included? use the duckduckgo toll you have available to answer the question'\n",
    "\n",
    "message = \"\"\"\n",
    "use the duckduckgo tool you have available to search wikipedia to respond:\n",
    " How many studio albums were published by Mercedes Sousa between 2000 and 2009 included?\"\n",
    "\n",
    "\"\"\"\n",
    "\n",
    "\n",
    "for step in ma.agent.stream(\n",
    "    {\"messages\": [{\"role\": \"user\", \"content\": message}]}, \n",
    "    config={\"callbacks\": [langfuse_handler]}\n",
    "    ):\n",
    "    print(\"=\"*40)\n",
    "    print(\"Current Node:\", step)"
   ]
  },
  {
   "cell_type": "code",
   "execution_count": null,
   "id": "d57e9368",
   "metadata": {},
   "outputs": [],
   "source": []
  }
 ],
 "metadata": {
  "kernelspec": {
   "display_name": ".venv (3.13.6)",
   "language": "python",
   "name": "python3"
  },
  "language_info": {
   "codemirror_mode": {
    "name": "ipython",
    "version": 3
   },
   "file_extension": ".py",
   "mimetype": "text/x-python",
   "name": "python",
   "nbconvert_exporter": "python",
   "pygments_lexer": "ipython3",
   "version": "3.13.6"
  }
 },
 "nbformat": 4,
 "nbformat_minor": 5
}
