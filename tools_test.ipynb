{
 "cells": [
  {
   "cell_type": "code",
   "execution_count": 1,
   "id": "ccd01f7c",
   "metadata": {},
   "outputs": [],
   "source": [
    "%load_ext autoreload\n",
    "\n",
    "%autoreload 2"
   ]
  },
  {
   "cell_type": "code",
   "execution_count": 17,
   "id": "c14296ff",
   "metadata": {},
   "outputs": [],
   "source": [
    "import textwrap\n",
    "\n",
    "def print_(message: str):\n",
    "\n",
    "    print(textwrap.fill(message, 75))"
   ]
  },
  {
   "cell_type": "code",
   "execution_count": null,
   "id": "4ec297d7",
   "metadata": {},
   "outputs": [],
   "source": [
    "import tools\n"
   ]
  },
  {
   "cell_type": "code",
   "execution_count": 9,
   "id": "7cf442f8",
   "metadata": {},
   "outputs": [
    {
     "data": {
      "text/plain": [
       "WikipediaQueryRun(api_wrapper=WikipediaAPIWrapper(wiki_client=<module 'wikipedia' from 'c:\\\\Users\\\\andrea.giorni\\\\Desktop\\\\code\\\\Hugging face Agent course\\\\Final_Assignment_Template\\\\.venv\\\\Lib\\\\site-packages\\\\wikipedia\\\\__init__.py'>, top_k_results=1, lang='en', load_all_available_meta=False, doc_content_chars_max=300))"
      ]
     },
     "execution_count": 9,
     "metadata": {},
     "output_type": "execute_result"
    }
   ],
   "source": [
    "tools.wikipedia_tool"
   ]
  },
  {
   "cell_type": "code",
   "execution_count": 4,
   "id": "3f538870",
   "metadata": {},
   "outputs": [],
   "source": [
    "out = tools.wikipedia_tool.invoke(\"who is germany chancellor?\")"
   ]
  },
  {
   "cell_type": "code",
   "execution_count": 5,
   "id": "ef465273",
   "metadata": {},
   "outputs": [
    {
     "name": "stdout",
     "output_type": "stream",
     "text": [
      "Page: Chancellor of Germany\n",
      "Summary: The chancellor of Germany, officially the federal chancellor of the Federal Republic of Germany, is the head of the federal government of Germany. The chancellor is the chief executive of the Federal Cabinet and heads the executive branch. The chancellor is elect\n"
     ]
    }
   ],
   "source": [
    "print(out)"
   ]
  },
  {
   "cell_type": "code",
   "execution_count": 10,
   "id": "a9768b29",
   "metadata": {},
   "outputs": [],
   "source": [
    "res = tools.wiki_RAG('who is germany chancellor?')"
   ]
  },
  {
   "cell_type": "code",
   "execution_count": 22,
   "id": "d140be5f",
   "metadata": {},
   "outputs": [],
   "source": [
    "res2 = tools.wiki_RAG('the list of german chancellors')"
   ]
  },
  {
   "cell_type": "code",
   "execution_count": 7,
   "id": "7f334a2f",
   "metadata": {},
   "outputs": [
    {
     "name": "stdout",
     "output_type": "stream",
     "text": [
      "The chancellor of Germany, officially the federal chancellor of the Federal Republic of Germany, is the head of the federal government of Germany. The chancellor is the chief executive of the Federal Cabinet and heads the executive branch. The chancellor is elected by the Bundestag on the proposal of the federal president and without debate (Article 63 of the German Constitution). During a state of defence declared by the Bundestag the chancellor also assumes the position of commander-in-chief of the Bundeswehr.\n",
      "Ten people (nine men and one woman) have served as chancellor of the Federal Republic of Germany, the first being Konrad Adenauer from 1949 to 1963. (Another 26 men had served as \"Reich chancellors\" of the previous German Empire from 1871 to 1945.) The current officeholder is Friedrich Merz of the Christian Democratic Union, sworn in on 6 May 2025.\n",
      "\n",
      "\n",
      "== History of the office (pre-1949) ==\n",
      "chancellor of the Federal Republic of Germany, is the head of the federal government of Germany.\n",
      "The chancellor of Germany, officially the federal chancellor of the Federal Republic of Germany, is\n",
      "The chancellor of Germany is the political leader of Germany and the head of the federal government.\n",
      "The chancellor of Germany is the political leader of Germany and the head of the federal government. The office holder is responsible for selecting all other members of the government and chairing cabinet meetings.\n",
      "The office was created in the North German Confederation in 1867, when Otto von Bismarck became the first chancellor. With the unification of Germany and establishment of the German Empire in 1871, the Confederation evolved into a German nation-state and its leader became known as the chancellor of Germany. Originally, the chancellor was only responsible to the emperor. This changed with the constitutional reform in 1918, when the Parliament was given the right to dismiss the chancellor. Under the 1919 Weimar Constitution the chancellors were appointed by the directly elected president, but were responsible to Parliament.\n"
     ]
    }
   ],
   "source": [
    "print(res)"
   ]
  },
  {
   "cell_type": "code",
   "execution_count": 25,
   "id": "a6933d2d",
   "metadata": {},
   "outputs": [
    {
     "name": "stdout",
     "output_type": "stream",
     "text": [
      "== Federal Republic of Germany (1949–present) == In 1949, two separate\n",
      "German states were established: the Federal Republic of Germany (known as\n",
      "West Germany) and the German Democratic Republic (known as East Germany).\n",
      "The list below gives the chancellors of West Germany; the government of\n",
      "East Germany was headed by the chairman of the Council of Ministers. In\n",
      "1990, East Germany was dissolved as it merged with West Germany; Germany\n",
      "was reunified. It retained the name of the Federal Republic of Germany.\n",
      "Political parties:   CDU (6)   SPD (4)   == Timeline ==   == See also ==\n",
      "Leadership of East Germany List of chancellors of Germany by time in offi\n"
     ]
    }
   ],
   "source": [
    "print_(res2[2].page_content)"
   ]
  },
  {
   "cell_type": "code",
   "execution_count": null,
   "id": "08e04f44",
   "metadata": {},
   "outputs": [],
   "source": []
  }
 ],
 "metadata": {
  "kernelspec": {
   "display_name": ".venv (3.13.6)",
   "language": "python",
   "name": "python3"
  },
  "language_info": {
   "codemirror_mode": {
    "name": "ipython",
    "version": 3
   },
   "file_extension": ".py",
   "mimetype": "text/x-python",
   "name": "python",
   "nbconvert_exporter": "python",
   "pygments_lexer": "ipython3",
   "version": "3.13.6"
  }
 },
 "nbformat": 4,
 "nbformat_minor": 5
}
